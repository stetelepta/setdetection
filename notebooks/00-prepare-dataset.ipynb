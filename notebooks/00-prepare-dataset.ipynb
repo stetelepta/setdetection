{
 "cells": [
  {
   "cell_type": "markdown",
   "metadata": {},
   "source": [
    "### Magics"
   ]
  },
  {
   "cell_type": "code",
   "execution_count": 1,
   "metadata": {
    "ExecuteTime": {
     "end_time": "2019-07-15T06:30:04.780575Z",
     "start_time": "2019-07-15T06:30:03.361121Z"
    }
   },
   "outputs": [
    {
     "name": "stderr",
     "output_type": "stream",
     "text": [
      "Using TensorFlow backend.\n"
     ]
    },
    {
     "name": "stdout",
     "output_type": "stream",
     "text": [
      "Salomon Tetelepta 2019-07-15 08:30:03 \n",
      "\n",
      "CPython 3.6.7\n",
      "IPython 7.2.0\n",
      "\n",
      "keras 2.2.4\n",
      "tensorflow 1.11.0\n",
      "numpy 1.16.2\n",
      "pandas 0.23.4\n",
      "matplotlib 2.0.2\n",
      "Git hash:\n"
     ]
    }
   ],
   "source": [
    "%matplotlib inline\n",
    "%load_ext autoreload\n",
    "%autoreload 2\n",
    "\n",
    "%load_ext watermark\n",
    "%watermark -a 'Salomon Tetelepta' -d -t -v -p keras,tensorflow,numpy,pandas,matplotlib -g"
   ]
  },
  {
   "cell_type": "markdown",
   "metadata": {},
   "source": [
    "### Imports"
   ]
  },
  {
   "cell_type": "code",
   "execution_count": 67,
   "metadata": {
    "ExecuteTime": {
     "end_time": "2019-07-15T07:14:17.860826Z",
     "start_time": "2019-07-15T07:14:17.807164Z"
    }
   },
   "outputs": [],
   "source": [
    "import os\n",
    "import sys\n",
    "from pathlib import Path\n",
    "import numpy as np\n",
    "import pandas as pd\n",
    "\n",
    "import logging\n",
    "import cv2\n",
    "from collections import defaultdict\n",
    "from sklearn.preprocessing import LabelEncoder"
   ]
  },
  {
   "cell_type": "markdown",
   "metadata": {},
   "source": [
    "### Settings"
   ]
  },
  {
   "cell_type": "code",
   "execution_count": 3,
   "metadata": {
    "ExecuteTime": {
     "end_time": "2019-07-15T06:30:05.755692Z",
     "start_time": "2019-07-15T06:30:05.713987Z"
    }
   },
   "outputs": [],
   "source": [
    "# path settings\n",
    "project_path = Path(os.getcwd(), os.pardir)\n",
    "data_path = project_path / \"data\"\n",
    "output_path = project_path / \"output\""
   ]
  },
  {
   "cell_type": "code",
   "execution_count": 71,
   "metadata": {
    "ExecuteTime": {
     "end_time": "2019-07-15T07:15:44.617980Z",
     "start_time": "2019-07-15T07:15:44.564842Z"
    }
   },
   "outputs": [],
   "source": [
    "# add project root to pythonpath\n",
    "sys.path.insert(0, str(project_path / \"src\"))\n",
    "\n",
    "# import packages\n",
    "from utils.identify import *\n",
    "from utils.log import *\n",
    "from dataset.dataset import *\n",
    "\n",
    "logger = setup_logger(level=logging.INFO)"
   ]
  },
  {
   "cell_type": "markdown",
   "metadata": {},
   "source": [
    "### Prepare dataset"
   ]
  },
  {
   "cell_type": "code",
   "execution_count": 7,
   "metadata": {
    "ExecuteTime": {
     "end_time": "2019-07-15T06:30:55.904921Z",
     "start_time": "2019-07-15T06:30:55.853468Z"
    }
   },
   "outputs": [],
   "source": [
    "dataset_path = data_path / \"dataset\" / \"128x96\"\n",
    "csv_path = dataset_path.parent / \"dataset.csv\""
   ]
  },
  {
   "cell_type": "code",
   "execution_count": 29,
   "metadata": {
    "ExecuteTime": {
     "end_time": "2019-07-15T06:38:09.246666Z",
     "start_time": "2019-07-15T06:38:08.999022Z"
    }
   },
   "outputs": [
    {
     "name": "stderr",
     "output_type": "stream",
     "text": [
      "2019-07-15 08:38:09,159 - INFO - :prepare_dataset - created dataframe with metadata\n",
      "2019-07-15 08:38:09,236 - INFO - :prepare_dataset - saved dataframe with metadata to /Users/salomon/work/fink-projects/set-detection/notebooks/../data/dataset/dataset.csv\n"
     ]
    }
   ],
   "source": [
    "# save dataset meta-data to csv file\n",
    " prepare_dataset.create_metadata(dataset_path, csv_path)"
   ]
  },
  {
   "cell_type": "markdown",
   "metadata": {},
   "source": [
    "#### Check if dataset is setup correctly"
   ]
  },
  {
   "cell_type": "code",
   "execution_count": 143,
   "metadata": {
    "ExecuteTime": {
     "end_time": "2019-07-15T07:44:43.218414Z",
     "start_time": "2019-07-15T07:44:43.152372Z"
    }
   },
   "outputs": [
    {
     "data": {
      "text/html": [
       "<div>\n",
       "<style scoped>\n",
       "    .dataframe tbody tr th:only-of-type {\n",
       "        vertical-align: middle;\n",
       "    }\n",
       "\n",
       "    .dataframe tbody tr th {\n",
       "        vertical-align: top;\n",
       "    }\n",
       "\n",
       "    .dataframe thead th {\n",
       "        text-align: right;\n",
       "    }\n",
       "</style>\n",
       "<table border=\"1\" class=\"dataframe\">\n",
       "  <thead>\n",
       "    <tr style=\"text-align: right;\">\n",
       "      <th></th>\n",
       "      <th>filename</th>\n",
       "      <th>variant</th>\n",
       "      <th>f_color</th>\n",
       "      <th>f_shape</th>\n",
       "      <th>f_fill</th>\n",
       "      <th>f_number</th>\n",
       "      <th>t_color</th>\n",
       "      <th>t_shape</th>\n",
       "      <th>t_fill</th>\n",
       "      <th>t_number</th>\n",
       "      <th>card_id</th>\n",
       "    </tr>\n",
       "  </thead>\n",
       "  <tbody>\n",
       "    <tr>\n",
       "      <th>0</th>\n",
       "      <td>0_red_round_solid_one.jpg</td>\n",
       "      <td>0</td>\n",
       "      <td>red</td>\n",
       "      <td>round</td>\n",
       "      <td>solid</td>\n",
       "      <td>one</td>\n",
       "      <td>0</td>\n",
       "      <td>0</td>\n",
       "      <td>0</td>\n",
       "      <td>0</td>\n",
       "      <td>0</td>\n",
       "    </tr>\n",
       "    <tr>\n",
       "      <th>1</th>\n",
       "      <td>1_red_round_solid_one.jpg</td>\n",
       "      <td>1</td>\n",
       "      <td>red</td>\n",
       "      <td>round</td>\n",
       "      <td>solid</td>\n",
       "      <td>one</td>\n",
       "      <td>0</td>\n",
       "      <td>0</td>\n",
       "      <td>0</td>\n",
       "      <td>0</td>\n",
       "      <td>0</td>\n",
       "    </tr>\n",
       "    <tr>\n",
       "      <th>2</th>\n",
       "      <td>2_red_round_solid_one.jpg</td>\n",
       "      <td>2</td>\n",
       "      <td>red</td>\n",
       "      <td>round</td>\n",
       "      <td>solid</td>\n",
       "      <td>one</td>\n",
       "      <td>0</td>\n",
       "      <td>0</td>\n",
       "      <td>0</td>\n",
       "      <td>0</td>\n",
       "      <td>0</td>\n",
       "    </tr>\n",
       "    <tr>\n",
       "      <th>3</th>\n",
       "      <td>3_red_round_solid_one.jpg</td>\n",
       "      <td>3</td>\n",
       "      <td>red</td>\n",
       "      <td>round</td>\n",
       "      <td>solid</td>\n",
       "      <td>one</td>\n",
       "      <td>0</td>\n",
       "      <td>0</td>\n",
       "      <td>0</td>\n",
       "      <td>0</td>\n",
       "      <td>0</td>\n",
       "    </tr>\n",
       "    <tr>\n",
       "      <th>4</th>\n",
       "      <td>0_red_round_solid_two.jpg</td>\n",
       "      <td>0</td>\n",
       "      <td>red</td>\n",
       "      <td>round</td>\n",
       "      <td>solid</td>\n",
       "      <td>two</td>\n",
       "      <td>0</td>\n",
       "      <td>0</td>\n",
       "      <td>0</td>\n",
       "      <td>1</td>\n",
       "      <td>1</td>\n",
       "    </tr>\n",
       "  </tbody>\n",
       "</table>\n",
       "</div>"
      ],
      "text/plain": [
       "                    filename  variant f_color f_shape f_fill f_number  \\\n",
       "0  0_red_round_solid_one.jpg        0     red   round  solid      one   \n",
       "1  1_red_round_solid_one.jpg        1     red   round  solid      one   \n",
       "2  2_red_round_solid_one.jpg        2     red   round  solid      one   \n",
       "3  3_red_round_solid_one.jpg        3     red   round  solid      one   \n",
       "4  0_red_round_solid_two.jpg        0     red   round  solid      two   \n",
       "\n",
       "   t_color  t_shape  t_fill  t_number  card_id  \n",
       "0        0        0       0         0        0  \n",
       "1        0        0       0         0        0  \n",
       "2        0        0       0         0        0  \n",
       "3        0        0       0         0        0  \n",
       "4        0        0       0         1        1  "
      ]
     },
     "execution_count": 143,
     "metadata": {},
     "output_type": "execute_result"
    }
   ],
   "source": [
    "# load meta data\n",
    "df_dataset = pd.read_csv(csv_path)\n",
    "df_dataset.head()\n",
    "\n",
    "### >>> prepare dictionary id -> title, id -> output vector, output_vector -> id"
   ]
  },
  {
   "cell_type": "code",
   "execution_count": 162,
   "metadata": {
    "ExecuteTime": {
     "end_time": "2019-07-15T07:48:56.454667Z",
     "start_time": "2019-07-15T07:48:56.400827Z"
    }
   },
   "outputs": [],
   "source": [
    "card_ids = df_dataset['card_id'].values\n",
    "multilabels = df_dataset[['t_color', 't_shape', 't_fill', 't_number']].values\n",
    "features = df_dataset[['f_color', 'f_shape', 'f_fill', 'f_number']].values"
   ]
  },
  {
   "cell_type": "code",
   "execution_count": 179,
   "metadata": {
    "ExecuteTime": {
     "end_time": "2019-07-15T07:51:10.264652Z",
     "start_time": "2019-07-15T07:51:10.216179Z"
    }
   },
   "outputs": [],
   "source": [
    "labels_dict = dict(zip(card_ids, multilabels))\n",
    "features_dict = dict(zip(card_ids, features))"
   ]
  },
  {
   "cell_type": "code",
   "execution_count": 182,
   "metadata": {
    "ExecuteTime": {
     "end_time": "2019-07-15T07:51:17.853566Z",
     "start_time": "2019-07-15T07:51:17.790029Z"
    }
   },
   "outputs": [
    {
     "data": {
      "text/plain": [
       "{0: array(['red', 'round', 'solid', 'one'], dtype=object),\n",
       " 1: array(['red', 'round', 'solid', 'two'], dtype=object),\n",
       " 2: array(['red', 'round', 'solid', 'three'], dtype=object),\n",
       " 3: array(['red', 'round', 'dotted', 'one'], dtype=object),\n",
       " 4: array(['red', 'round', 'dotted', 'two'], dtype=object),\n",
       " 5: array(['red', 'round', 'dotted', 'three'], dtype=object),\n",
       " 6: array(['red', 'round', 'open', 'one'], dtype=object),\n",
       " 7: array(['red', 'round', 'open', 'two'], dtype=object),\n",
       " 8: array(['red', 'round', 'open', 'three'], dtype=object),\n",
       " 9: array(['red', 'squiggle', 'solid', 'one'], dtype=object),\n",
       " 10: array(['red', 'squiggle', 'solid', 'two'], dtype=object),\n",
       " 11: array(['red', 'squiggle', 'solid', 'three'], dtype=object),\n",
       " 12: array(['red', 'squiggle', 'dotted', 'one'], dtype=object),\n",
       " 13: array(['red', 'squiggle', 'dotted', 'two'], dtype=object),\n",
       " 14: array(['red', 'squiggle', 'dotted', 'three'], dtype=object),\n",
       " 15: array(['red', 'squiggle', 'open', 'one'], dtype=object),\n",
       " 16: array(['red', 'squiggle', 'open', 'two'], dtype=object),\n",
       " 17: array(['red', 'squiggle', 'open', 'three'], dtype=object),\n",
       " 18: array(['red', 'square', 'solid', 'one'], dtype=object),\n",
       " 19: array(['red', 'square', 'solid', 'two'], dtype=object),\n",
       " 20: array(['red', 'square', 'solid', 'three'], dtype=object),\n",
       " 21: array(['red', 'square', 'dotted', 'one'], dtype=object),\n",
       " 22: array(['red', 'square', 'dotted', 'two'], dtype=object),\n",
       " 23: array(['red', 'square', 'dotted', 'three'], dtype=object),\n",
       " 24: array(['red', 'square', 'open', 'one'], dtype=object),\n",
       " 25: array(['red', 'square', 'open', 'two'], dtype=object),\n",
       " 26: array(['red', 'square', 'open', 'three'], dtype=object),\n",
       " 27: array(['green', 'round', 'solid', 'one'], dtype=object),\n",
       " 28: array(['green', 'round', 'solid', 'two'], dtype=object),\n",
       " 29: array(['green', 'round', 'solid', 'three'], dtype=object),\n",
       " 30: array(['green', 'round', 'dotted', 'one'], dtype=object),\n",
       " 31: array(['green', 'round', 'dotted', 'two'], dtype=object),\n",
       " 32: array(['green', 'round', 'dotted', 'three'], dtype=object),\n",
       " 33: array(['green', 'round', 'open', 'one'], dtype=object),\n",
       " 34: array(['green', 'round', 'open', 'two'], dtype=object),\n",
       " 35: array(['green', 'round', 'open', 'three'], dtype=object),\n",
       " 36: array(['green', 'squiggle', 'solid', 'one'], dtype=object),\n",
       " 37: array(['green', 'squiggle', 'solid', 'two'], dtype=object),\n",
       " 38: array(['green', 'squiggle', 'solid', 'three'], dtype=object),\n",
       " 39: array(['green', 'squiggle', 'dotted', 'one'], dtype=object),\n",
       " 40: array(['green', 'squiggle', 'dotted', 'two'], dtype=object),\n",
       " 41: array(['green', 'squiggle', 'dotted', 'three'], dtype=object),\n",
       " 42: array(['green', 'squiggle', 'open', 'one'], dtype=object),\n",
       " 43: array(['green', 'squiggle', 'open', 'two'], dtype=object),\n",
       " 44: array(['green', 'squiggle', 'open', 'three'], dtype=object),\n",
       " 45: array(['green', 'square', 'solid', 'one'], dtype=object),\n",
       " 46: array(['green', 'square', 'solid', 'two'], dtype=object),\n",
       " 47: array(['green', 'square', 'solid', 'three'], dtype=object),\n",
       " 48: array(['green', 'square', 'dotted', 'one'], dtype=object),\n",
       " 49: array(['green', 'square', 'dotted', 'two'], dtype=object),\n",
       " 50: array(['green', 'square', 'dotted', 'three'], dtype=object),\n",
       " 51: array(['green', 'square', 'open', 'one'], dtype=object),\n",
       " 52: array(['green', 'square', 'open', 'two'], dtype=object),\n",
       " 53: array(['green', 'square', 'open', 'three'], dtype=object),\n",
       " 54: array(['purple', 'round', 'solid', 'one'], dtype=object),\n",
       " 55: array(['purple', 'round', 'solid', 'two'], dtype=object),\n",
       " 56: array(['purple', 'round', 'solid', 'three'], dtype=object),\n",
       " 57: array(['purple', 'round', 'dotted', 'one'], dtype=object),\n",
       " 58: array(['purple', 'round', 'dotted', 'two'], dtype=object),\n",
       " 59: array(['purple', 'round', 'dotted', 'three'], dtype=object),\n",
       " 60: array(['purple', 'round', 'open', 'one'], dtype=object),\n",
       " 61: array(['purple', 'round', 'open', 'two'], dtype=object),\n",
       " 62: array(['purple', 'round', 'open', 'three'], dtype=object),\n",
       " 63: array(['purple', 'squiggle', 'solid', 'one'], dtype=object),\n",
       " 64: array(['purple', 'squiggle', 'solid', 'two'], dtype=object),\n",
       " 65: array(['purple', 'squiggle', 'solid', 'three'], dtype=object),\n",
       " 66: array(['purple', 'squiggle', 'dotted', 'one'], dtype=object),\n",
       " 67: array(['purple', 'squiggle', 'dotted', 'two'], dtype=object),\n",
       " 68: array(['purple', 'squiggle', 'dotted', 'three'], dtype=object),\n",
       " 69: array(['purple', 'squiggle', 'open', 'one'], dtype=object),\n",
       " 70: array(['purple', 'squiggle', 'open', 'two'], dtype=object),\n",
       " 71: array(['purple', 'squiggle', 'open', 'three'], dtype=object),\n",
       " 72: array(['purple', 'square', 'solid', 'one'], dtype=object),\n",
       " 73: array(['purple', 'square', 'solid', 'two'], dtype=object),\n",
       " 74: array(['purple', 'square', 'solid', 'three'], dtype=object),\n",
       " 75: array(['purple', 'square', 'dotted', 'one'], dtype=object),\n",
       " 76: array(['purple', 'square', 'dotted', 'two'], dtype=object),\n",
       " 77: array(['purple', 'square', 'dotted', 'three'], dtype=object),\n",
       " 78: array(['purple', 'square', 'open', 'one'], dtype=object),\n",
       " 79: array(['purple', 'square', 'open', 'two'], dtype=object),\n",
       " 80: array(['purple', 'square', 'open', 'three'], dtype=object)}"
      ]
     },
     "execution_count": 182,
     "metadata": {},
     "output_type": "execute_result"
    }
   ],
   "source": [
    "features_dict"
   ]
  },
  {
   "cell_type": "markdown",
   "metadata": {
    "ExecuteTime": {
     "end_time": "2019-07-14T07:47:44.158529Z",
     "start_time": "2019-07-14T07:47:44.103711Z"
    }
   },
   "source": [
    "#### Example: load data"
   ]
  },
  {
   "cell_type": "code",
   "execution_count": 95,
   "metadata": {
    "ExecuteTime": {
     "end_time": "2019-07-15T07:27:58.766128Z",
     "start_time": "2019-07-15T07:27:57.590086Z"
    }
   },
   "outputs": [
    {
     "name": "stdout",
     "output_type": "stream",
     "text": [
      "Found 243 images belonging to 81 classes.\n",
      "(162, 81)\n"
     ]
    }
   ],
   "source": [
    "aug_params = {\n",
    "    \"shear_range\": 0.4,\n",
    "    \"zoom_range\": 0.4,\n",
    "    \"horizontal_flip\": True,\n",
    "    \"vertical_flip\": True,    \n",
    "    \"rotation_range\": 45\n",
    "}\n",
    "\n",
    "X, Y, _meta = load_dataset(dataset_path / \"train\", aug_params=aug_params, nr_images=162, output_path=output_path)"
   ]
  },
  {
   "cell_type": "code",
   "execution_count": 96,
   "metadata": {
    "ExecuteTime": {
     "end_time": "2019-07-15T07:29:40.898991Z",
     "start_time": "2019-07-15T07:29:40.842811Z"
    }
   },
   "outputs": [
    {
     "name": "stdout",
     "output_type": "stream",
     "text": [
      "(162, 96, 128, 3)\n",
      "(162, 4)\n",
      "(162,)\n"
     ]
    }
   ],
   "source": [
    "print(X.shape)\n",
    "print(Y.shape)\n",
    "print(_meta.shape)"
   ]
  },
  {
   "cell_type": "code",
   "execution_count": 109,
   "metadata": {
    "ExecuteTime": {
     "end_time": "2019-07-15T07:32:52.530607Z",
     "start_time": "2019-07-15T07:32:52.472095Z"
    }
   },
   "outputs": [],
   "source": [
    "def get_sample(df, card_id, cols=['f_color', 'f_shape', 'f_fill', 'f_number', 't_color', 't_shape', 't_fill', 't_number']):\n",
    "    return df[df.card_id==int(card_id)].drop_duplicates('card_id')[cols].values[0].astype(str)\n",
    "    \n",
    "def get_title(card_id):\n",
    "    return \"-\".join(get_sample(df_dataset, card_id))"
   ]
  },
  {
   "cell_type": "code",
   "execution_count": 111,
   "metadata": {
    "ExecuteTime": {
     "end_time": "2019-07-15T07:33:05.512701Z",
     "start_time": "2019-07-15T07:33:05.273018Z"
    }
   },
   "outputs": [
    {
     "data": {
      "text/plain": [
       "<matplotlib.image.AxesImage at 0x1a49f40ac8>"
      ]
     },
     "execution_count": 111,
     "metadata": {},
     "output_type": "execute_result"
    },
    {
     "data": {
      "image/png": "[encoded data removed]",
      "text/plain": [
       "<matplotlib.figure.Figure at 0x1a49f40cc0>"
      ]
     },
     "metadata": {
      "needs_background": "light"
     },
     "output_type": "display_data"
    }
   ],
   "source": [
    "plt.title(f\"{_meta[1]} - {get_title(_meta[1])}\")\n",
    "plt.imshow(X[0]/255)"
   ]
  },
  {
   "cell_type": "code",
   "execution_count": 133,
   "metadata": {
    "ExecuteTime": {
     "end_time": "2019-07-15T07:39:14.986663Z",
     "start_time": "2019-07-15T07:39:14.304652Z"
    }
   },
   "outputs": [
    {
     "name": "stdout",
     "output_type": "stream",
     "text": [
      "Found 243 images belonging to 81 classes.\n"
     ]
    }
   ],
   "source": [
    "X, target_ids = upsample_dataset(dataset_path / \"train\", nr_images=4, params=aug_params, target_size=(96, 128), batch_size=81, shuffle=True, output_path=output_path)"
   ]
  },
  {
   "cell_type": "code",
   "execution_count": 139,
   "metadata": {
    "ExecuteTime": {
     "end_time": "2019-07-15T07:41:54.698168Z",
     "start_time": "2019-07-15T07:41:54.646173Z"
    }
   },
   "outputs": [
    {
     "data": {
      "text/plain": [
       "array(['16', '10', '54', '79'], dtype='<U2')"
      ]
     },
     "execution_count": 139,
     "metadata": {},
     "output_type": "execute_result"
    }
   ],
   "source": [
    "target_ids"
   ]
  },
  {
   "cell_type": "code",
   "execution_count": 135,
   "metadata": {
    "ExecuteTime": {
     "end_time": "2019-07-15T07:39:20.469283Z",
     "start_time": "2019-07-15T07:39:20.416261Z"
    }
   },
   "outputs": [],
   "source": [
    "    _, target_feature_ids = get_class_info()"
   ]
  },
  {
   "cell_type": "code",
   "execution_count": 136,
   "metadata": {
    "ExecuteTime": {
     "end_time": "2019-07-15T07:39:21.237481Z",
     "start_time": "2019-07-15T07:39:21.187772Z"
    }
   },
   "outputs": [],
   "source": [
    "Y = get_multi_output_labels(target_ids, target_feature_ids)"
   ]
  },
  {
   "cell_type": "code",
   "execution_count": 137,
   "metadata": {
    "ExecuteTime": {
     "end_time": "2019-07-15T07:39:24.185857Z",
     "start_time": "2019-07-15T07:39:24.129089Z"
    }
   },
   "outputs": [
    {
     "data": {
      "text/plain": [
       "array([[0., 1., 2., 1.],\n",
       "       [0., 1., 0., 1.],\n",
       "       [2., 0., 0., 0.],\n",
       "       [2., 2., 2., 1.]])"
      ]
     },
     "execution_count": 137,
     "metadata": {},
     "output_type": "execute_result"
    }
   ],
   "source": [
    "Y"
   ]
  },
  {
   "cell_type": "code",
   "execution_count": 119,
   "metadata": {
    "ExecuteTime": {
     "end_time": "2019-07-15T07:35:07.905164Z",
     "start_time": "2019-07-15T07:35:07.377849Z"
    }
   },
   "outputs": [
    {
     "name": "stdout",
     "output_type": "stream",
     "text": [
      "16 [0. 1. 2. 1.] red-squiggle-open-two-0-1-2-1\n",
      "10 [0. 1. 0. 1.] red-squiggle-solid-two-0-1-0-1\n",
      "54 [2. 0. 0. 0.] purple-round-solid-one-2-0-0-0\n",
      "79 [2. 2. 2. 1.] purple-square-open-two-2-2-2-1\n",
      "80 [2. 2. 2. 2.] purple-square-open-three-2-2-2-2\n",
      "61 [2. 0. 2. 1.] purple-round-open-two-2-0-2-1\n",
      "73 [2. 2. 0. 1.] purple-square-solid-two-2-2-0-1\n",
      "54 [2. 0. 0. 0.] purple-round-solid-one-2-0-0-0\n",
      "11 [0. 1. 0. 2.] red-squiggle-solid-three-0-1-0-2\n",
      "42 [1. 1. 2. 0.] green-squiggle-open-one-1-1-2-0\n",
      "22 [0. 2. 1. 1.] red-square-dotted-two-0-2-1-1\n",
      "71 [2. 1. 2. 2.] purple-squiggle-open-three-2-1-2-2\n",
      "77 [2. 2. 1. 2.] purple-square-dotted-three-2-2-1-2\n",
      "6 [0. 0. 2. 0.] red-round-open-one-0-0-2-0\n",
      "33 [1. 0. 2. 0.] green-round-open-one-1-0-2-0\n",
      "57 [2. 0. 1. 0.] purple-round-dotted-one-2-0-1-0\n",
      "8 [0. 0. 2. 2.] red-round-open-three-0-0-2-2\n",
      "13 [0. 1. 1. 1.] red-squiggle-dotted-two-0-1-1-1\n",
      "29 [1. 0. 0. 2.] green-round-solid-three-1-0-0-2\n",
      "47 [1. 2. 0. 2.] green-square-solid-three-1-2-0-2\n",
      "19 [0. 2. 0. 1.] red-square-solid-two-0-2-0-1\n",
      "14 [0. 1. 1. 2.] red-squiggle-dotted-three-0-1-1-2\n",
      "41 [1. 1. 1. 2.] green-squiggle-dotted-three-1-1-1-2\n",
      "18 [0. 2. 0. 0.] red-square-solid-one-0-2-0-0\n",
      "64 [2. 1. 0. 1.] purple-squiggle-solid-two-2-1-0-1\n",
      "58 [2. 0. 1. 1.] purple-round-dotted-two-2-0-1-1\n",
      "11 [0. 1. 0. 2.] red-squiggle-solid-three-0-1-0-2\n",
      "30 [1. 0. 1. 0.] green-round-dotted-one-1-0-1-0\n",
      "37 [1. 1. 0. 1.] green-squiggle-solid-two-1-1-0-1\n",
      "55 [2. 0. 0. 1.] purple-round-solid-two-2-0-0-1\n",
      "42 [1. 1. 2. 0.] green-squiggle-open-one-1-1-2-0\n",
      "74 [2. 2. 0. 2.] purple-square-solid-three-2-2-0-2\n",
      "16 [0. 1. 2. 1.] red-squiggle-open-two-0-1-2-1\n",
      "27 [1. 0. 0. 0.] green-round-solid-one-1-0-0-0\n",
      "14 [0. 1. 1. 2.] red-squiggle-dotted-three-0-1-1-2\n",
      "47 [1. 2. 0. 2.] green-square-solid-three-1-2-0-2\n",
      "38 [1. 1. 0. 2.] green-squiggle-solid-three-1-1-0-2\n",
      "68 [2. 1. 1. 2.] purple-squiggle-dotted-three-2-1-1-2\n",
      "5 [0. 0. 1. 2.] red-round-dotted-three-0-0-1-2\n",
      "9 [0. 1. 0. 0.] red-squiggle-solid-one-0-1-0-0\n",
      "31 [1. 0. 1. 1.] green-round-dotted-two-1-0-1-1\n",
      "44 [1. 1. 2. 2.] green-squiggle-open-three-1-1-2-2\n",
      "42 [1. 1. 2. 0.] green-squiggle-open-one-1-1-2-0\n",
      "13 [0. 1. 1. 1.] red-squiggle-dotted-two-0-1-1-1\n",
      "68 [2. 1. 1. 2.] purple-squiggle-dotted-three-2-1-1-2\n",
      "29 [1. 0. 0. 2.] green-round-solid-three-1-0-0-2\n",
      "59 [2. 0. 1. 2.] purple-round-dotted-three-2-0-1-2\n",
      "2 [0. 0. 0. 2.] red-round-solid-three-0-0-0-2\n",
      "63 [2. 1. 0. 0.] purple-squiggle-solid-one-2-1-0-0\n",
      "43 [1. 1. 2. 1.] green-squiggle-open-two-1-1-2-1\n",
      "71 [2. 1. 2. 2.] purple-squiggle-open-three-2-1-2-2\n",
      "56 [2. 0. 0. 2.] purple-round-solid-three-2-0-0-2\n",
      "49 [1. 2. 1. 1.] green-square-dotted-two-1-2-1-1\n",
      "34 [1. 0. 2. 1.] green-round-open-two-1-0-2-1\n",
      "25 [0. 2. 2. 1.] red-square-open-two-0-2-2-1\n",
      "34 [1. 0. 2. 1.] green-round-open-two-1-0-2-1\n",
      "58 [2. 0. 1. 1.] purple-round-dotted-two-2-0-1-1\n",
      "62 [2. 0. 2. 2.] purple-round-open-three-2-0-2-2\n",
      "76 [2. 2. 1. 1.] purple-square-dotted-two-2-2-1-1\n",
      "78 [2. 2. 2. 0.] purple-square-open-one-2-2-2-0\n",
      "55 [2. 0. 0. 1.] purple-round-solid-two-2-0-0-1\n",
      "38 [1. 1. 0. 2.] green-squiggle-solid-three-1-1-0-2\n",
      "51 [1. 2. 2. 0.] green-square-open-one-1-2-2-0\n",
      "67 [2. 1. 1. 1.] purple-squiggle-dotted-two-2-1-1-1\n",
      "29 [1. 0. 0. 2.] green-round-solid-three-1-0-0-2\n",
      "44 [1. 1. 2. 2.] green-squiggle-open-three-1-1-2-2\n",
      "3 [0. 0. 1. 0.] red-round-dotted-one-0-0-1-0\n",
      "55 [2. 0. 0. 1.] purple-round-solid-two-2-0-0-1\n",
      "67 [2. 1. 1. 1.] purple-squiggle-dotted-two-2-1-1-1\n",
      "4 [0. 0. 1. 1.] red-round-dotted-two-0-0-1-1\n",
      "41 [1. 1. 1. 2.] green-squiggle-dotted-three-1-1-1-2\n",
      "66 [2. 1. 1. 0.] purple-squiggle-dotted-one-2-1-1-0\n",
      "32 [1. 0. 1. 2.] green-round-dotted-three-1-0-1-2\n",
      "17 [0. 1. 2. 2.] red-squiggle-open-three-0-1-2-2\n",
      "45 [1. 2. 0. 0.] green-square-solid-one-1-2-0-0\n",
      "43 [1. 1. 2. 1.] green-squiggle-open-two-1-1-2-1\n",
      "9 [0. 1. 0. 0.] red-squiggle-solid-one-0-1-0-0\n",
      "1 [0. 0. 0. 1.] red-round-solid-two-0-0-0-1\n",
      "25 [0. 2. 2. 1.] red-square-open-two-0-2-2-1\n",
      "46 [1. 2. 0. 1.] green-square-solid-two-1-2-0-1\n",
      "53 [1. 2. 2. 2.] green-square-open-three-1-2-2-2\n",
      "77 [2. 2. 1. 2.] purple-square-dotted-three-2-2-1-2\n",
      "28 [1. 0. 0. 1.] green-round-solid-two-1-0-0-1\n",
      "6 [0. 0. 2. 0.] red-round-open-one-0-0-2-0\n",
      "70 [2. 1. 2. 1.] purple-squiggle-open-two-2-1-2-1\n",
      "52 [1. 2. 2. 1.] green-square-open-two-1-2-2-1\n",
      "18 [0. 2. 0. 0.] red-square-solid-one-0-2-0-0\n",
      "12 [0. 1. 1. 0.] red-squiggle-dotted-one-0-1-1-0\n",
      "19 [0. 2. 0. 1.] red-square-solid-two-0-2-0-1\n",
      "17 [0. 1. 2. 2.] red-squiggle-open-three-0-1-2-2\n",
      "21 [0. 2. 1. 0.] red-square-dotted-one-0-2-1-0\n",
      "39 [1. 1. 1. 0.] green-squiggle-dotted-one-1-1-1-0\n",
      "46 [1. 2. 0. 1.] green-square-solid-two-1-2-0-1\n",
      "61 [2. 0. 2. 1.] purple-round-open-two-2-0-2-1\n",
      "24 [0. 2. 2. 0.] red-square-open-one-0-2-2-0\n",
      "37 [1. 1. 0. 1.] green-squiggle-solid-two-1-1-0-1\n",
      "50 [1. 2. 1. 2.] green-square-dotted-three-1-2-1-2\n",
      "67 [2. 1. 1. 1.] purple-squiggle-dotted-two-2-1-1-1\n",
      "31 [1. 0. 1. 1.] green-round-dotted-two-1-0-1-1\n",
      "20 [0. 2. 0. 2.] red-square-solid-three-0-2-0-2\n",
      "68 [2. 1. 1. 2.] purple-squiggle-dotted-three-2-1-1-2\n",
      "53 [1. 2. 2. 2.] green-square-open-three-1-2-2-2\n",
      "32 [1. 0. 1. 2.] green-round-dotted-three-1-0-1-2\n",
      "51 [1. 2. 2. 0.] green-square-open-one-1-2-2-0\n",
      "16 [0. 1. 2. 1.] red-squiggle-open-two-0-1-2-1\n",
      "8 [0. 0. 2. 2.] red-round-open-three-0-0-2-2\n",
      "57 [2. 0. 1. 0.] purple-round-dotted-one-2-0-1-0\n",
      "63 [2. 1. 0. 0.] purple-squiggle-solid-one-2-1-0-0\n",
      "69 [2. 1. 2. 0.] purple-squiggle-open-one-2-1-2-0\n",
      "0 [0. 0. 0. 0.] red-round-solid-one-0-0-0-0\n",
      "0 [0. 0. 0. 0.] red-round-solid-one-0-0-0-0\n",
      "31 [1. 0. 1. 1.] green-round-dotted-two-1-0-1-1\n",
      "22 [0. 2. 1. 1.] red-square-dotted-two-0-2-1-1\n",
      "39 [1. 1. 1. 0.] green-squiggle-dotted-one-1-1-1-0\n",
      "79 [2. 2. 2. 1.] purple-square-open-two-2-2-2-1\n",
      "52 [1. 2. 2. 1.] green-square-open-two-1-2-2-1\n",
      "60 [2. 0. 2. 0.] purple-round-open-one-2-0-2-0\n",
      "36 [1. 1. 0. 0.] green-squiggle-solid-one-1-1-0-0\n",
      "34 [1. 0. 2. 1.] green-round-open-two-1-0-2-1\n",
      "70 [2. 1. 2. 1.] purple-squiggle-open-two-2-1-2-1\n",
      "72 [2. 2. 0. 0.] purple-square-solid-one-2-2-0-0\n",
      "38 [1. 1. 0. 2.] green-squiggle-solid-three-1-1-0-2\n",
      "2 [0. 0. 0. 2.] red-round-solid-three-0-0-0-2\n",
      "51 [1. 2. 2. 0.] green-square-open-one-1-2-2-0\n",
      "27 [1. 0. 0. 0.] green-round-solid-one-1-0-0-0\n",
      "15 [0. 1. 2. 0.] red-squiggle-open-one-0-1-2-0\n",
      "44 [1. 1. 2. 2.] green-squiggle-open-three-1-1-2-2\n",
      "74 [2. 2. 0. 2.] purple-square-solid-three-2-2-0-2\n",
      "5 [0. 0. 1. 2.] red-round-dotted-three-0-0-1-2\n",
      "11 [0. 1. 0. 2.] red-squiggle-solid-three-0-1-0-2\n",
      "80 [2. 2. 2. 2.] purple-square-open-three-2-2-2-2\n",
      "17 [0. 1. 2. 2.] red-squiggle-open-three-0-1-2-2\n",
      "76 [2. 2. 1. 1.] purple-square-dotted-two-2-2-1-1\n",
      "1 [0. 0. 0. 1.] red-round-solid-two-0-0-0-1\n",
      "45 [1. 2. 0. 0.] green-square-solid-one-1-2-0-0\n",
      "18 [0. 2. 0. 0.] red-square-solid-one-0-2-0-0\n",
      "50 [1. 2. 1. 2.] green-square-dotted-three-1-2-1-2\n",
      "60 [2. 0. 2. 0.] purple-round-open-one-2-0-2-0\n",
      "50 [1. 2. 1. 2.] green-square-dotted-three-1-2-1-2\n",
      "27 [1. 0. 0. 0.] green-round-solid-one-1-0-0-0\n",
      "5 [0. 0. 1. 2.] red-round-dotted-three-0-0-1-2\n",
      "47 [1. 2. 0. 2.] green-square-solid-three-1-2-0-2\n",
      "75 [2. 2. 1. 0.] purple-square-dotted-one-2-2-1-0\n",
      "64 [2. 1. 0. 1.] purple-squiggle-solid-two-2-1-0-1\n",
      "3 [0. 0. 1. 0.] red-round-dotted-one-0-0-1-0\n",
      "65 [2. 1. 0. 2.] purple-squiggle-solid-three-2-1-0-2\n",
      "28 [1. 0. 0. 1.] green-round-solid-two-1-0-0-1\n",
      "21 [0. 2. 1. 0.] red-square-dotted-one-0-2-1-0\n",
      "56 [2. 0. 0. 2.] purple-round-solid-three-2-0-0-2\n",
      "20 [0. 2. 0. 2.] red-square-solid-three-0-2-0-2\n",
      "46 [1. 2. 0. 1.] green-square-solid-two-1-2-0-1\n",
      "15 [0. 1. 2. 0.] red-squiggle-open-one-0-1-2-0\n",
      "63 [2. 1. 0. 0.] purple-squiggle-solid-one-2-1-0-0\n",
      "62 [2. 0. 2. 2.] purple-round-open-three-2-0-2-2\n",
      "33 [1. 0. 2. 0.] green-round-open-one-1-0-2-0\n",
      "20 [0. 2. 0. 2.] red-square-solid-three-0-2-0-2\n",
      "72 [2. 2. 0. 0.] purple-square-solid-one-2-2-0-0\n",
      "22 [0. 2. 1. 1.] red-square-dotted-two-0-2-1-1\n",
      "37 [1. 1. 0. 1.] green-squiggle-solid-two-1-1-0-1\n",
      "64 [2. 1. 0. 1.] purple-squiggle-solid-two-2-1-0-1\n",
      "21 [0. 2. 1. 0.] red-square-dotted-one-0-2-1-0\n",
      "52 [1. 2. 2. 1.] green-square-open-two-1-2-2-1\n"
     ]
    }
   ],
   "source": [
    "for i, yy in enumerate(Y):\n",
    "    print(_meta[i], yy, get_title(_meta[i]))"
   ]
  },
  {
   "cell_type": "code",
   "execution_count": null,
   "metadata": {},
   "outputs": [],
   "source": []
  }
 ],
 "metadata": {
  "kernelspec": {
   "display_name": "conda-experiments",
   "language": "python",
   "name": "conda-experiments"
  },
  "language_info": {
   "codemirror_mode": {
    "name": "ipython",
    "version": 3
   },
   "file_extension": ".py",
   "mimetype": "text/x-python",
   "name": "python",
   "nbconvert_exporter": "python",
   "pygments_lexer": "ipython3",
   "version": "3.6.7"
  },
  "varInspector": {
   "cols": {
    "lenName": 16,
    "lenType": 16,
    "lenVar": 40
   },
   "kernels_config": {
    "python": {
     "delete_cmd_postfix": "",
     "delete_cmd_prefix": "del ",
     "library": "var_list.py",
     "varRefreshCmd": "print(var_dic_list())"
    },
    "r": {
     "delete_cmd_postfix": ") ",
     "delete_cmd_prefix": "rm(",
     "library": "var_list.r",
     "varRefreshCmd": "cat(var_dic_list()) "
    }
   },
   "types_to_exclude": [
    "module",
    "function",
    "builtin_function_or_method",
    "instance",
    "_Feature"
   ],
   "window_display": false
  }
 },
 "nbformat": 4,
 "nbformat_minor": 2
}
