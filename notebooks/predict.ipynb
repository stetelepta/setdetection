{
 "cells": [
  {
   "cell_type": "code",
   "execution_count": 30,
   "metadata": {
    "ExecuteTime": {
     "end_time": "2019-09-04T05:19:52.825822Z",
     "start_time": "2019-09-04T05:19:52.750882Z"
    }
   },
   "outputs": [
    {
     "name": "stdout",
     "output_type": "stream",
     "text": [
      "The autoreload extension is already loaded. To reload it, use:\n",
      "  %reload_ext autoreload\n"
     ]
    }
   ],
   "source": [
    "%load_ext autoreload\n",
    "%autoreload 2"
   ]
  },
  {
   "cell_type": "code",
   "execution_count": 31,
   "metadata": {
    "ExecuteTime": {
     "end_time": "2019-09-04T05:19:53.697809Z",
     "start_time": "2019-09-04T05:19:53.633087Z"
    }
   },
   "outputs": [],
   "source": [
    "### Imports\n",
    "import os\n",
    "import sys\n",
    "\n",
    "import numpy as np\n",
    "import pandas as pd\n",
    "\n",
    "import pickle\n",
    "import cv2\n",
    "\n",
    "from pathlib import Path\n",
    "from tensorflow.keras.models import Model\n",
    "\n",
    "# import supported models\n",
    "from tensorflow.keras.applications import ResNet50\n",
    "from tensorflow.keras.applications.resnet50 import preprocess_input as preprocess_input_resnet50\n",
    "from tensorflow.compat.v1.keras.models import load_model\n",
    "from tensorflow.keras.metrics import categorical_accuracy\n",
    "from tensorflow.keras.optimizers import Adam"
   ]
  },
  {
   "cell_type": "code",
   "execution_count": 32,
   "metadata": {
    "ExecuteTime": {
     "end_time": "2019-09-04T05:19:54.549967Z",
     "start_time": "2019-09-04T05:19:54.493170Z"
    }
   },
   "outputs": [],
   "source": [
    "# get project path, and flag if script runs in a file\n",
    "project_path = Path(os.getcwd(), os.pardir)\n",
    "output_path = project_path / \"output\"\n",
    "\n",
    "# add project root to pythonpath\n",
    "sys.path.insert(0, str(project_path / \"src\"))\n",
    "\n",
    "# import custom packages\n",
    "from utils.identify import *   \n",
    "from utils.findsets import *   \n",
    "from set_cardgame.dataset import *"
   ]
  },
  {
   "cell_type": "code",
   "execution_count": 33,
   "metadata": {
    "ExecuteTime": {
     "end_time": "2019-09-04T05:20:00.896803Z",
     "start_time": "2019-09-04T05:19:56.740524Z"
    }
   },
   "outputs": [],
   "source": [
    "# name of first layer that had 100% validation score  \n",
    "layer_name = \"res3d_branch2a\"\n",
    "intermediate_model = load_model(\n",
    "    output_path / f\"resnet_{layer_name}_intermediate_model.h5\",\n",
    "    custom_objects=None,\n",
    "    compile=True\n",
    ")"
   ]
  },
  {
   "cell_type": "markdown",
   "metadata": {
    "ExecuteTime": {
     "end_time": "2019-09-02T05:55:35.701986Z",
     "start_time": "2019-09-02T05:55:35.685867Z"
    }
   },
   "source": [
    "### load model"
   ]
  },
  {
   "cell_type": "code",
   "execution_count": 34,
   "metadata": {
    "ExecuteTime": {
     "end_time": "2019-09-04T05:20:01.766938Z",
     "start_time": "2019-09-04T05:20:01.680091Z"
    }
   },
   "outputs": [],
   "source": [
    "nr_images = 8100\n",
    "layer_name = \"res3d_branch2a\"\n",
    "\n",
    "with open(output_path / f'clf_{layer_name}_{nr_images}.pkl', 'rb') as handle:\n",
    "    best_model = pickle.load(handle)"
   ]
  },
  {
   "cell_type": "code",
   "execution_count": 35,
   "metadata": {
    "ExecuteTime": {
     "end_time": "2019-09-04T05:20:05.698183Z",
     "start_time": "2019-09-04T05:20:02.588988Z"
    }
   },
   "outputs": [
    {
     "name": "stdout",
     "output_type": "stream",
     "text": [
      "Found 243 images belonging to 81 classes.\n",
      "Found 81 images belonging to 81 classes.\n",
      "X_test.shape: (810, 96, 128, 3)\n"
     ]
    }
   ],
   "source": [
    "# load training and validation data\n",
    "X_test, y_test, X_val, y_val = load_dataset(nr_images=810, output_path=None, preprocessing_func=preprocess_input_resnet50)\n",
    "print(\"X_test.shape:\", X_test.shape)"
   ]
  },
  {
   "cell_type": "code",
   "execution_count": 7,
   "metadata": {
    "ExecuteTime": {
     "end_time": "2019-09-03T20:02:20.873558Z",
     "start_time": "2019-09-03T20:02:20.688948Z"
    }
   },
   "outputs": [],
   "source": [
    "# load meta data about the dataset\n",
    "df_meta, _ = load_metadata()"
   ]
  },
  {
   "cell_type": "code",
   "execution_count": 8,
   "metadata": {
    "ExecuteTime": {
     "end_time": "2019-09-03T20:02:37.706758Z",
     "start_time": "2019-09-03T20:02:22.414745Z"
    }
   },
   "outputs": [],
   "source": [
    "# generate image embeddings\n",
    "X_test_embeddings = intermediate_model.predict(X_test).reshape(X_test.shape[0], -1)"
   ]
  },
  {
   "cell_type": "code",
   "execution_count": 9,
   "metadata": {
    "ExecuteTime": {
     "end_time": "2019-09-03T20:02:38.546187Z",
     "start_time": "2019-09-03T20:02:38.354438Z"
    }
   },
   "outputs": [
    {
     "name": "stdout",
     "output_type": "stream",
     "text": [
      "test_score:1.0\n"
     ]
    }
   ],
   "source": [
    "test_score = best_model.score(X_test_embeddings, y_test)\n",
    "print(f\"test_score:{test_score}\")"
   ]
  },
  {
   "cell_type": "code",
   "execution_count": 71,
   "metadata": {
    "ExecuteTime": {
     "end_time": "2019-09-04T05:37:32.423282Z",
     "start_time": "2019-09-04T05:37:32.352309Z"
    }
   },
   "outputs": [],
   "source": [
    "# todo: add support in dataset.py to quickly get the label and catories\n",
    "\n",
    "def get_card_meta(df_meta, card_id):\n",
    "    return df_meta[(df_meta.card_id == card_id)].drop_duplicates()\n",
    "\n",
    "def get_feature_codes(df_meta, card_id):\n",
    "    card_feature_codes = []\n",
    "    print(\"card_id:\", card_id)\n",
    "    for feature in ['color', 'shape', 'fill', 'number']:\n",
    "        feature_categories = pd.Categorical(df_meta[feature])\n",
    "        df_meta[f'{feature}_code'] = feature_categories.codes\n",
    "    \n",
    "    return card_feature_codes\n",
    "\n",
    "def get_card_label(df_meta, card_id):\n",
    "    return \" \".join(list(df_meta[df_meta.card_id == int(card_id)][['color', 'shape', 'fill', 'number']].drop_duplicates().values[0]))\n",
    "\n",
    "# print(get_feature_codes(df_meta, 49))\n",
    "# print(get_card_label(df_meta, 49))"
   ]
  },
  {
   "cell_type": "code",
   "execution_count": 72,
   "metadata": {
    "ExecuteTime": {
     "end_time": "2019-09-04T05:37:37.444815Z",
     "start_time": "2019-09-04T05:37:37.363451Z"
    }
   },
   "outputs": [
    {
     "data": {
      "text/html": [
       "<div>\n",
       "<style scoped>\n",
       "    .dataframe tbody tr th:only-of-type {\n",
       "        vertical-align: middle;\n",
       "    }\n",
       "\n",
       "    .dataframe tbody tr th {\n",
       "        vertical-align: top;\n",
       "    }\n",
       "\n",
       "    .dataframe thead th {\n",
       "        text-align: right;\n",
       "    }\n",
       "</style>\n",
       "<table border=\"1\" class=\"dataframe\">\n",
       "  <thead>\n",
       "    <tr style=\"text-align: right;\">\n",
       "      <th></th>\n",
       "      <th>filename</th>\n",
       "      <th>card_id</th>\n",
       "      <th>variant</th>\n",
       "      <th>color</th>\n",
       "      <th>shape</th>\n",
       "      <th>fill</th>\n",
       "      <th>number</th>\n",
       "      <th>color_code</th>\n",
       "      <th>shape_code</th>\n",
       "      <th>fill_code</th>\n",
       "      <th>number_code</th>\n",
       "    </tr>\n",
       "  </thead>\n",
       "  <tbody>\n",
       "    <tr>\n",
       "      <th>196</th>\n",
       "      <td>0_green_square_dotted_two.jpg</td>\n",
       "      <td>49</td>\n",
       "      <td>0</td>\n",
       "      <td>green</td>\n",
       "      <td>square</td>\n",
       "      <td>dotted</td>\n",
       "      <td>two</td>\n",
       "      <td>1</td>\n",
       "      <td>0</td>\n",
       "      <td>2</td>\n",
       "      <td>1</td>\n",
       "    </tr>\n",
       "    <tr>\n",
       "      <th>197</th>\n",
       "      <td>1_green_square_dotted_two.jpg</td>\n",
       "      <td>49</td>\n",
       "      <td>1</td>\n",
       "      <td>green</td>\n",
       "      <td>square</td>\n",
       "      <td>dotted</td>\n",
       "      <td>two</td>\n",
       "      <td>1</td>\n",
       "      <td>0</td>\n",
       "      <td>2</td>\n",
       "      <td>1</td>\n",
       "    </tr>\n",
       "    <tr>\n",
       "      <th>198</th>\n",
       "      <td>2_green_square_dotted_two.jpg</td>\n",
       "      <td>49</td>\n",
       "      <td>2</td>\n",
       "      <td>green</td>\n",
       "      <td>square</td>\n",
       "      <td>dotted</td>\n",
       "      <td>two</td>\n",
       "      <td>1</td>\n",
       "      <td>0</td>\n",
       "      <td>2</td>\n",
       "      <td>1</td>\n",
       "    </tr>\n",
       "    <tr>\n",
       "      <th>199</th>\n",
       "      <td>3_green_square_dotted_two.jpg</td>\n",
       "      <td>49</td>\n",
       "      <td>3</td>\n",
       "      <td>green</td>\n",
       "      <td>square</td>\n",
       "      <td>dotted</td>\n",
       "      <td>two</td>\n",
       "      <td>1</td>\n",
       "      <td>0</td>\n",
       "      <td>2</td>\n",
       "      <td>1</td>\n",
       "    </tr>\n",
       "  </tbody>\n",
       "</table>\n",
       "</div>"
      ],
      "text/plain": [
       "                          filename  card_id  variant  color   shape    fill  \\\n",
       "196  0_green_square_dotted_two.jpg       49        0  green  square  dotted   \n",
       "197  1_green_square_dotted_two.jpg       49        1  green  square  dotted   \n",
       "198  2_green_square_dotted_two.jpg       49        2  green  square  dotted   \n",
       "199  3_green_square_dotted_two.jpg       49        3  green  square  dotted   \n",
       "\n",
       "    number  color_code  shape_code  fill_code  number_code  \n",
       "196    two           1           0          2            1  \n",
       "197    two           1           0          2            1  \n",
       "198    two           1           0          2            1  \n",
       "199    two           1           0          2            1  "
      ]
     },
     "execution_count": 72,
     "metadata": {},
     "output_type": "execute_result"
    }
   ],
   "source": [
    "get_card_meta(df_meta, 49)"
   ]
  },
  {
   "cell_type": "markdown",
   "metadata": {},
   "source": [
    "### Detect SET combinations"
   ]
  },
  {
   "cell_type": "code",
   "execution_count": 18,
   "metadata": {
    "ExecuteTime": {
     "end_time": "2019-09-03T20:04:13.481363Z",
     "start_time": "2019-09-03T20:04:13.401040Z"
    }
   },
   "outputs": [
    {
     "data": {
      "text/plain": [
       "[[array([0]), array([1]), array([2])], [array([3]), array([5]), array([6])]]"
      ]
     },
     "execution_count": 18,
     "metadata": {},
     "output_type": "execute_result"
    }
   ],
   "source": [
    "from utils.findsets import findsets\n",
    "collection = [\n",
    "    (1, 1, 1, 1),\n",
    "    (2, 2, 2, 2),\n",
    "    (3, 3, 3, 3),\n",
    "    (1, 2, 3, 1),\n",
    "    (3, 1, 1, 2),\n",
    "    (2, 1, 2, 2),\n",
    "    (3, 3, 1, 3)\n",
    "]\n",
    "findsets(np.array(collection))"
   ]
  },
  {
   "cell_type": "code",
   "execution_count": 25,
   "metadata": {
    "ExecuteTime": {
     "end_time": "2019-09-04T05:14:16.968894Z",
     "start_time": "2019-09-04T05:14:16.871390Z"
    }
   },
   "outputs": [
    {
     "name": "stdout",
     "output_type": "stream",
     "text": [
      "card_id: 49\n",
      "card_id: 77\n",
      "card_id: 74\n",
      "card_id: 54\n",
      "card_id: 5\n",
      "card_id: 80\n",
      "card_id: 21\n",
      "card_id: 9\n",
      "card_id: 10\n",
      "card_id: 23\n",
      "card_id: 22\n",
      "card_id: 32\n"
     ]
    },
    {
     "data": {
      "text/plain": [
       "array([[2, 2, 0, 0],\n",
       "       [2, 1, 2, 2],\n",
       "       [2, 1, 2, 0],\n",
       "       [2, 2, 0, 2],\n",
       "       [2, 0, 2, 2],\n",
       "       [2, 1, 2, 1],\n",
       "       [2, 0, 0, 1],\n",
       "       [2, 0, 2, 1],\n",
       "       [2, 0, 2, 1],\n",
       "       [2, 0, 0, 1],\n",
       "       [2, 0, 0, 1],\n",
       "       [2, 0, 1, 1]], dtype=int8)"
      ]
     },
     "execution_count": 25,
     "metadata": {},
     "output_type": "execute_result"
    }
   ],
   "source": [
    "np.array(list(map(lambda x: get_feature_codes(df_meta, x), predictions)))"
   ]
  },
  {
   "cell_type": "code",
   "execution_count": 20,
   "metadata": {
    "ExecuteTime": {
     "end_time": "2019-09-03T20:04:33.559042Z",
     "start_time": "2019-09-03T20:04:33.484564Z"
    }
   },
   "outputs": [
    {
     "data": {
      "text/plain": [
       "array([[2, 2, 0, 0],\n",
       "       [2, 1, 2, 2],\n",
       "       [2, 1, 2, 0],\n",
       "       [2, 2, 0, 2],\n",
       "       [2, 0, 2, 2],\n",
       "       [2, 1, 2, 1],\n",
       "       [2, 0, 0, 1],\n",
       "       [2, 0, 2, 1],\n",
       "       [2, 0, 2, 1],\n",
       "       [2, 0, 0, 1],\n",
       "       [2, 0, 0, 1],\n",
       "       [2, 0, 1, 1]], dtype=int8)"
      ]
     },
     "execution_count": 20,
     "metadata": {},
     "output_type": "execute_result"
    }
   ],
   "source": [
    "predictions_features"
   ]
  },
  {
   "cell_type": "code",
   "execution_count": 19,
   "metadata": {
    "ExecuteTime": {
     "end_time": "2019-09-03T20:04:14.832790Z",
     "start_time": "2019-09-03T20:04:14.764706Z"
    }
   },
   "outputs": [
    {
     "data": {
      "text/plain": [
       "[[array([0]), array([1]), array([11])],\n",
       " [array([1]), array([2]), array([5])],\n",
       " [array([2]), array([3]), array([11])],\n",
       " [array([ 6,  9, 10]), array([7, 8]), array([11])],\n",
       " [array([ 6,  9, 10]), array([7, 8]), array([11])],\n",
       " [array([ 6,  9, 10]), array([ 6,  9, 10]), array([ 6,  9, 10])],\n",
       " [array([7, 8]), array([ 6,  9, 10]), array([11])],\n",
       " [array([7, 8]), array([ 6,  9, 10]), array([11])],\n",
       " [array([7, 8]), array([ 6,  9, 10]), array([11])],\n",
       " [array([7, 8]), array([ 6,  9, 10]), array([11])]]"
      ]
     },
     "execution_count": 19,
     "metadata": {},
     "output_type": "execute_result"
    }
   ],
   "source": [
    "findsets(predictions_features)"
   ]
  },
  {
   "cell_type": "code",
   "execution_count": 15,
   "metadata": {
    "ExecuteTime": {
     "end_time": "2019-09-03T20:03:27.111175Z",
     "start_time": "2019-09-03T20:03:26.630453Z"
    }
   },
   "outputs": [
    {
     "name": "stdout",
     "output_type": "stream",
     "text": [
      "image_embeddings.shape: (12, 24576)\n",
      "predictions_features: [[2 2 0 0]\n",
      " [2 1 2 2]\n",
      " [2 1 2 0]\n",
      " [2 2 0 2]\n",
      " [2 0 2 2]\n",
      " [2 1 2 1]\n",
      " [2 0 0 1]\n",
      " [2 0 2 1]\n",
      " [2 0 2 1]\n",
      " [2 0 0 1]\n",
      " [2 0 0 1]\n",
      " [2 0 1 1]]\n"
     ]
    },
    {
     "ename": "NameError",
     "evalue": "name 'a' is not defined",
     "output_type": "error",
     "traceback": [
      "\u001b[0;31m---------------------------------------------------------------------------\u001b[0m",
      "\u001b[0;31mNameError\u001b[0m                                 Traceback (most recent call last)",
      "\u001b[0;32m<ipython-input-15-33132a3730b4>\u001b[0m in \u001b[0;36m<module>\u001b[0;34m\u001b[0m\n\u001b[1;32m     24\u001b[0m     \u001b[0mprint\u001b[0m\u001b[0;34m(\u001b[0m\u001b[0;34m\"predictions_features:\"\u001b[0m\u001b[0;34m,\u001b[0m \u001b[0mpredictions_features\u001b[0m\u001b[0;34m)\u001b[0m\u001b[0;34m\u001b[0m\u001b[0;34m\u001b[0m\u001b[0m\n\u001b[1;32m     25\u001b[0m     \u001b[0;31m# find all sets\u001b[0m\u001b[0;34m\u001b[0m\u001b[0;34m\u001b[0m\u001b[0;34m\u001b[0m\u001b[0m\n\u001b[0;32m---> 26\u001b[0;31m     \u001b[0msets\u001b[0m \u001b[0;34m=\u001b[0m \u001b[0mfindsets\u001b[0m\u001b[0;34m(\u001b[0m\u001b[0ma\u001b[0m\u001b[0;34m)\u001b[0m\u001b[0;34m\u001b[0m\u001b[0;34m\u001b[0m\u001b[0m\n\u001b[0m\u001b[1;32m     27\u001b[0m     \u001b[0mprint\u001b[0m\u001b[0;34m(\u001b[0m\u001b[0msets\u001b[0m\u001b[0;34m)\u001b[0m\u001b[0;34m\u001b[0m\u001b[0;34m\u001b[0m\u001b[0m\n\u001b[1;32m     28\u001b[0m     \u001b[0;31m# plot sets\u001b[0m\u001b[0;34m\u001b[0m\u001b[0;34m\u001b[0m\u001b[0;34m\u001b[0m\u001b[0m\n",
      "\u001b[0;31mNameError\u001b[0m: name 'a' is not defined"
     ]
    }
   ],
   "source": [
    "# putting it all together\n",
    "test_images_path = project_path / \"test_images\"\n",
    "\n",
    "#X_identify = np.array([])\n",
    "target_width = 128\n",
    "target_height = 96\n",
    "for image_name in os.listdir(test_images_path):\n",
    "        \n",
    "    # read image\n",
    "    img = cv2.imread(str(test_images_path / image_name))\n",
    "\n",
    "    # identify the different cards\n",
    "    identified_images, bboxes = identify_images(img, target_size=(target_width, target_height))\n",
    "    \n",
    "    # generate image embeddings for each card\n",
    "    image_embeddings = intermediate_model.predict(identified_images).reshape(identified_images.shape[0], -1)\n",
    "    print(f'image_embeddings.shape: {image_embeddings.shape}')\n",
    "    \n",
    "    # classify cards\n",
    "    predictions = best_model.predict(image_embeddings)\n",
    "\n",
    "    # get feature codes for each prediction\n",
    "    predictions_features = np.array(list(map(lambda x: get_feature_codes(df_meta, x), predictions)))\n",
    "    print(\"predictions_features:\", predictions_features)\n",
    "    # find all sets\n",
    "    sets = findsets(a)\n",
    "    print(sets)\n",
    "    # plot sets\n",
    "    #plot_sets(img_rgb, image_name, bboxes, sets)\n",
    "\n",
    "    # plot predictions\n",
    "    #plot_predictions(image_name, identified_images, predictions2str(predictions))"
   ]
  },
  {
   "cell_type": "code",
   "execution_count": 44,
   "metadata": {
    "ExecuteTime": {
     "end_time": "2019-09-03T06:29:09.826786Z",
     "start_time": "2019-09-03T06:29:09.817725Z"
    }
   },
   "outputs": [
    {
     "data": {
      "text/plain": [
       "'purple square dotted three'"
      ]
     },
     "execution_count": 44,
     "metadata": {},
     "output_type": "execute_result"
    }
   ],
   "source": [
    "\" \".join(df_meta[df_meta.card_id == int(card_id)][['color', 'shape', 'fill', 'number']].drop_duplicates().values[0])"
   ]
  },
  {
   "cell_type": "markdown",
   "metadata": {
    "heading_collapsed": true
   },
   "source": [
    "### read from camera"
   ]
  },
  {
   "cell_type": "code",
   "execution_count": 12,
   "metadata": {
    "ExecuteTime": {
     "end_time": "2019-09-03T06:09:27.130606Z",
     "start_time": "2019-09-03T06:09:17.508752Z"
    },
    "hidden": true
   },
   "outputs": [],
   "source": [
    "cap = cv2.VideoCapture(0)\n",
    "\n",
    "while(1):\n",
    "    ret, frame = cap.read()\n",
    "    \n",
    "    cv2.imshow('Camera', frame)\n",
    "    \n",
    "    if cv2.waitKey(1) & 0xFF == ord('q'):\n",
    "        break\n",
    "\n",
    "cap.release()\n",
    "\n",
    "cv2.destroyAllWindows()"
   ]
  },
  {
   "cell_type": "code",
   "execution_count": null,
   "metadata": {
    "hidden": true
   },
   "outputs": [],
   "source": []
  }
 ],
 "metadata": {
  "kernelspec": {
   "display_name": "setdetection",
   "language": "python",
   "name": "setdetection"
  },
  "language_info": {
   "codemirror_mode": {
    "name": "ipython",
    "version": 3
   },
   "file_extension": ".py",
   "mimetype": "text/x-python",
   "name": "python",
   "nbconvert_exporter": "python",
   "pygments_lexer": "ipython3",
   "version": "3.7.4"
  },
  "varInspector": {
   "cols": {
    "lenName": 16,
    "lenType": 16,
    "lenVar": 40
   },
   "kernels_config": {
    "python": {
     "delete_cmd_postfix": "",
     "delete_cmd_prefix": "del ",
     "library": "var_list.py",
     "varRefreshCmd": "print(var_dic_list())"
    },
    "r": {
     "delete_cmd_postfix": ") ",
     "delete_cmd_prefix": "rm(",
     "library": "var_list.r",
     "varRefreshCmd": "cat(var_dic_list()) "
    }
   },
   "types_to_exclude": [
    "module",
    "function",
    "builtin_function_or_method",
    "instance",
    "_Feature"
   ],
   "window_display": false
  }
 },
 "nbformat": 4,
 "nbformat_minor": 2
}
