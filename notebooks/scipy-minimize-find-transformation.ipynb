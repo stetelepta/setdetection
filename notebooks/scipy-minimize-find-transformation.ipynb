{
 "cells": [
  {
   "cell_type": "markdown",
   "metadata": {},
   "source": [
    "### Find transformation using Scipy minimize"
   ]
  },
  {
   "cell_type": "markdown",
   "metadata": {},
   "source": [
    "To find out what are realistic lightning changes, we will take images of a card for different lightning conditions (X and Xi) and we use least square optimization to find an affine transformation T that relates those images \n",
    "X' = TX"
   ]
  },
  {
   "cell_type": "markdown",
   "metadata": {},
   "source": [
    "### Magics"
   ]
  },
  {
   "cell_type": "code",
   "execution_count": 2,
   "metadata": {
    "ExecuteTime": {
     "end_time": "2019-09-28T06:54:45.902237Z",
     "start_time": "2019-09-28T06:54:45.827216Z"
    }
   },
   "outputs": [
    {
     "name": "stdout",
     "output_type": "stream",
     "text": [
      "The autoreload extension is already loaded. To reload it, use:\n",
      "  %reload_ext autoreload\n",
      "The watermark extension is already loaded. To reload it, use:\n",
      "  %reload_ext watermark\n",
      "Salomon Tetelepta 2019-09-28 08:54:45 \n",
      "\n",
      "CPython 3.7.4\n",
      "IPython 7.7.0\n",
      "\n",
      "tensorflow 1.14.0\n",
      "numpy 1.16.4\n",
      "pandas 0.25.0\n",
      "matplotlib 3.1.1\n",
      "Git hash: ad081f8902f4a6d83752c53fe7d4807773a21ad1\n"
     ]
    }
   ],
   "source": [
    "%matplotlib inline\n",
    "%load_ext autoreload\n",
    "%autoreload 2\n",
    "\n",
    "%load_ext watermark\n",
    "%watermark -a 'Salomon Tetelepta' -d -t -v -p tensorflow,numpy,pandas,matplotlib -g"
   ]
  },
  {
   "cell_type": "markdown",
   "metadata": {},
   "source": [
    "### Imports"
   ]
  },
  {
   "cell_type": "code",
   "execution_count": 5,
   "metadata": {
    "ExecuteTime": {
     "end_time": "2019-09-28T06:55:43.011348Z",
     "start_time": "2019-09-28T06:55:42.731800Z"
    }
   },
   "outputs": [],
   "source": [
    "import numpy as np\n",
    "from scipy.optimize import minimize\n",
    "from matplotlib import pyplot as plt "
   ]
  },
  {
   "cell_type": "code",
   "execution_count": 6,
   "metadata": {
    "ExecuteTime": {
     "end_time": "2019-09-28T06:55:45.566064Z",
     "start_time": "2019-09-28T06:55:45.504067Z"
    }
   },
   "outputs": [],
   "source": [
    "def plot_points(a, marker, label=\"\"):\n",
    "    plt.plot(a[:, 0], a[:, 1], linestyle=\"None\", marker=marker, markersize=12, alpha=0.8, label=label)\n",
    "    plt.xlim(-10, 10)\n",
    "    plt.ylim(-10, 10)"
   ]
  },
  {
   "cell_type": "markdown",
   "metadata": {
    "ExecuteTime": {
     "end_time": "2019-09-28T06:56:51.585879Z",
     "start_time": "2019-09-28T06:56:51.525453Z"
    }
   },
   "source": [
    "#### Toy example\n",
    "\n",
    "Find transformation matrix, that transforms a to b, with (b = a * T_u). T_u is unknown, so the goal is to find a matrix T that is as close to T_u as possible.\n",
    "\n",
    "To find it, we setup an objective function: b - a * T"
   ]
  },
  {
   "cell_type": "code",
   "execution_count": 91,
   "metadata": {
    "ExecuteTime": {
     "end_time": "2019-09-28T07:17:53.258669Z",
     "start_time": "2019-09-28T07:17:53.191706Z"
    }
   },
   "outputs": [],
   "source": [
    "a = np.array([[1, 4], [3, 3], [2, 3], [2, 3]])\n",
    "T_u = np.array([[1.4, 0.5], [-2, 1.6]])\n",
    "b = np.dot(a, T_u)"
   ]
  },
  {
   "cell_type": "code",
   "execution_count": 92,
   "metadata": {
    "ExecuteTime": {
     "end_time": "2019-09-28T07:17:53.483168Z",
     "start_time": "2019-09-28T07:17:53.414664Z"
    }
   },
   "outputs": [],
   "source": [
    "def objective(t, a, b):\n",
    "    t = t.reshape(2, 2)\n",
    "    value = np.sum(np.abs(b - np.dot(a, t)))\n",
    "    #print(value)\n",
    "    return value"
   ]
  },
  {
   "cell_type": "code",
   "execution_count": 93,
   "metadata": {
    "ExecuteTime": {
     "end_time": "2019-09-28T07:17:53.809237Z",
     "start_time": "2019-09-28T07:17:53.746226Z"
    }
   },
   "outputs": [],
   "source": [
    "x0 = np.array([[1, 0], [0, 1]])\n",
    "objective(x0, a, b)\n",
    "bv = (-10., 10.)\n",
    "bnds = (bv, bv, bv, bv)"
   ]
  },
  {
   "cell_type": "code",
   "execution_count": 117,
   "metadata": {
    "ExecuteTime": {
     "end_time": "2019-09-28T07:21:23.443129Z",
     "start_time": "2019-09-28T07:21:23.370716Z"
    }
   },
   "outputs": [],
   "source": [
    "sol = minimize(objective, x0, method='SLSQP', args=(a, b), bounds=bnds)"
   ]
  },
  {
   "cell_type": "code",
   "execution_count": 118,
   "metadata": {
    "ExecuteTime": {
     "end_time": "2019-09-28T07:21:23.781731Z",
     "start_time": "2019-09-28T07:21:23.722155Z"
    }
   },
   "outputs": [
    {
     "name": "stdout",
     "output_type": "stream",
     "text": [
      "T_u:\n",
      "[[ 1.4  0.5]\n",
      " [-2.   1.6]]\n",
      "T:\n",
      "[[ 1.4  0.5]\n",
      " [-2.   1.6]]\n"
     ]
    }
   ],
   "source": [
    "T = np.round(sol.x, 3).reshape(2, 2)\n",
    "print(\"T_u:\")\n",
    "print(T_u)\n",
    "print(\"T:\")\n",
    "print(T)"
   ]
  },
  {
   "cell_type": "code",
   "execution_count": 119,
   "metadata": {
    "ExecuteTime": {
     "end_time": "2019-09-28T07:21:24.179677Z",
     "start_time": "2019-09-28T07:21:23.961449Z"
    }
   },
   "outputs": [
    {
     "data": {
      "image/png": "[encoded data removed]",
      "text/plain": [
       "<Figure size 360x360 with 1 Axes>"
      ]
     },
     "metadata": {
      "needs_background": "light"
     },
     "output_type": "display_data"
    }
   ],
   "source": [
    "plt.figure(figsize=(5, 5))\n",
    "plot_points(a, marker=\".\", label=\"a\")\n",
    "plot_points(b, marker=\"x\", label=\"b\")\n",
    "plot_points(np.dot(a, T), marker=\"v\", label=\"solution\")\n",
    "plt.legend()\n",
    "plt.show()"
   ]
  },
  {
   "cell_type": "code",
   "execution_count": null,
   "metadata": {},
   "outputs": [],
   "source": []
  }
 ],
 "metadata": {
  "kernelspec": {
   "display_name": "setdetection",
   "language": "python",
   "name": "setdetection"
  },
  "language_info": {
   "codemirror_mode": {
    "name": "ipython",
    "version": 3
   },
   "file_extension": ".py",
   "mimetype": "text/x-python",
   "name": "python",
   "nbconvert_exporter": "python",
   "pygments_lexer": "ipython3",
   "version": "3.7.4"
  },
  "varInspector": {
   "cols": {
    "lenName": 16,
    "lenType": 16,
    "lenVar": 40
   },
   "kernels_config": {
    "python": {
     "delete_cmd_postfix": "",
     "delete_cmd_prefix": "del ",
     "library": "var_list.py",
     "varRefreshCmd": "print(var_dic_list())"
    },
    "r": {
     "delete_cmd_postfix": ") ",
     "delete_cmd_prefix": "rm(",
     "library": "var_list.r",
     "varRefreshCmd": "cat(var_dic_list()) "
    }
   },
   "types_to_exclude": [
    "module",
    "function",
    "builtin_function_or_method",
    "instance",
    "_Feature"
   ],
   "window_display": false
  }
 },
 "nbformat": 4,
 "nbformat_minor": 2
}
