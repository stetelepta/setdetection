{
 "cells": [
  {
   "cell_type": "markdown",
   "metadata": {},
   "source": [
    "### Magics"
   ]
  },
  {
   "cell_type": "code",
   "execution_count": 1,
   "metadata": {
    "ExecuteTime": {
     "end_time": "2019-09-14T11:06:24.174067Z",
     "start_time": "2019-09-14T11:06:20.968823Z"
    }
   },
   "outputs": [
    {
     "name": "stdout",
     "output_type": "stream",
     "text": [
      "Salomon Tetelepta 2019-09-14 13:06:21 \n",
      "\n",
      "CPython 3.7.4\n",
      "IPython 7.7.0\n",
      "\n",
      "tensorflow 1.14.0\n",
      "numpy 1.16.4\n",
      "pandas 0.25.0\n",
      "matplotlib 3.1.1\n",
      "Git hash: 5949f436287087825c47d8cc576b79166e2863ff\n"
     ]
    }
   ],
   "source": [
    "%matplotlib inline\n",
    "%load_ext autoreload\n",
    "%autoreload 2\n",
    "\n",
    "%load_ext watermark\n",
    "%watermark -a 'Salomon Tetelepta' -d -t -v -p tensorflow,numpy,pandas,matplotlib -g"
   ]
  },
  {
   "cell_type": "markdown",
   "metadata": {},
   "source": [
    "### Imports"
   ]
  },
  {
   "cell_type": "code",
   "execution_count": 21,
   "metadata": {
    "ExecuteTime": {
     "end_time": "2019-09-14T11:12:50.912192Z",
     "start_time": "2019-09-14T11:12:50.834212Z"
    }
   },
   "outputs": [],
   "source": [
    "import os\n",
    "import sys\n",
    "\n",
    "import numpy as np\n",
    "import pandas as pd\n",
    "import cv2\n",
    "\n",
    "import pickle\n",
    "import random\n",
    "\n",
    "from pathlib import Path\n",
    "import matplotlib.pyplot as plt\n",
    "\n",
    "# tensorflow\n",
    "from tensorflow.keras.models import Model\n",
    "from tensorflow.keras.optimizers import Adam\n",
    "from tensorflow.compat.v1.keras.models import save_model, load_model\n",
    "from tensorflow.keras.metrics import categorical_accuracy\n",
    "from tensorflow.compat.v1 import set_random_seed\n",
    "\n",
    "## import DCNN models\n",
    "from tensorflow.keras.applications import ResNet50, MobileNet, MobileNetV2\n",
    "\n",
    "## import preprocessing functions for each model\n",
    "from tensorflow.keras.applications.resnet50 import preprocess_input as preprocess_input_resnet50\n",
    "from tensorflow.keras.applications.mobilenet import preprocess_input as preprocess_input_mobile_net\n",
    "from tensorflow.keras.applications.mobilenet_v2 import preprocess_input as preprocess_input_mobile_net_v2\n",
    "\n",
    "# sklearn\n",
    "from sklearn.linear_model import LogisticRegression\n",
    "from sklearn.metrics import confusion_matrix"
   ]
  },
  {
   "cell_type": "markdown",
   "metadata": {},
   "source": [
    "### Settings"
   ]
  },
  {
   "cell_type": "code",
   "execution_count": 3,
   "metadata": {
    "ExecuteTime": {
     "end_time": "2019-09-14T11:06:37.354974Z",
     "start_time": "2019-09-14T11:06:37.245974Z"
    }
   },
   "outputs": [],
   "source": [
    "# get project path, and flag if script runs in a file\n",
    "project_path = Path(os.getcwd(), os.pardir)\n",
    "output_path = project_path / \"output\"\n",
    "model_path = project_path / \"models\"\n",
    "results_csv_path = output_path / 'results.csv'\n",
    "\n",
    "# add project root to pythonpath\n",
    "sys.path.insert(0, str(project_path / \"src\"))\n",
    "\n",
    "# import custom packages\n",
    "from set_cardgame.dataset import *\n",
    "from set_cardgame.identify import *   \n",
    "from set_cardgame.utils import *\n",
    "\n",
    "# make results repeatable\n",
    "seed = 42\n",
    "random.seed(seed)  # python built-in pseudo-random generator\n",
    "np.random.seed(seed)  # numpy pseudo-random generator\n",
    "set_random_seed(seed)  # tensorflow pseudo-random generator"
   ]
  },
  {
   "cell_type": "markdown",
   "metadata": {},
   "source": [
    "### Setup Intermediate DCNN Model (ResNet50)"
   ]
  },
  {
   "cell_type": "code",
   "execution_count": 4,
   "metadata": {
    "ExecuteTime": {
     "end_time": "2019-09-14T11:06:53.946332Z",
     "start_time": "2019-09-14T11:06:38.780665Z"
    }
   },
   "outputs": [
    {
     "name": "stderr",
     "output_type": "stream",
     "text": [
      "/Users/salomon/miniconda3/envs/setdetection/lib/python3.7/site-packages/keras_applications/resnet50.py:265: UserWarning: The output shape of `ResNet50(include_top=False)` has been changed since Keras 2.2.0.\n",
      "  warnings.warn('The output shape of `ResNet50(include_top=False)` '\n"
     ]
    }
   ],
   "source": [
    "# name of one the middle layers of the DCNN that performed best (found using find_best_layer.py)\n",
    "layer_name = \"res3d_branch2a\"\n",
    "\n",
    "# initialize intermediate model\n",
    "base_model = ResNet50(include_top=False, weights='imagenet', pooling=None, input_shape=(96, 128, 3))\n",
    "preprocess_input_function = preprocess_input_resnet50\n",
    "\n",
    "# create new model and set outputs to the best desired layer  \n",
    "intermediate_model = Model(inputs=base_model.input, outputs=base_model.get_layer(layer_name).output)\n",
    "intermediate_model.compile(optimizer=Adam(), loss='categorical_crossentropy', metrics=[categorical_accuracy])\n",
    "\n",
    "# save the intermediate model\n",
    "save_model(\n",
    "    intermediate_model,\n",
    "    model_path / f\"resnet_{layer_name}_intermediate_model.h5\",\n",
    "    overwrite=True,\n",
    "    include_optimizer=True,\n",
    "    save_format='h5'\n",
    ")"
   ]
  },
  {
   "cell_type": "markdown",
   "metadata": {},
   "source": [
    "### Load data"
   ]
  },
  {
   "cell_type": "code",
   "execution_count": 5,
   "metadata": {
    "ExecuteTime": {
     "end_time": "2019-09-14T11:06:58.210439Z",
     "start_time": "2019-09-14T11:06:54.149000Z"
    }
   },
   "outputs": [
    {
     "name": "stdout",
     "output_type": "stream",
     "text": [
      "Found 243 images belonging to 81 classes.\n",
      "Found 81 images belonging to 81 classes.\n",
      "X_train.shape: (810, 96, 128, 3)\n",
      "X_val.shape: (81, 96, 128, 3)\n",
      "Number of training samples (m_train): 810\n",
      "Number of validation samples (m_val): 81\n"
     ]
    }
   ],
   "source": [
    "nr_images = 810\n",
    "\n",
    "# load training and validation data\n",
    "X_train, y_train, X_val, y_val = load_dataset(nr_images=nr_images)\n",
    "\n",
    "# save nr samples for convience\n",
    "m_train = X_train.shape[0]\n",
    "m_val = X_val.shape[0]\n",
    "\n",
    "# apply preprocessing for the specified model\n",
    "X_train_preprocessed = preprocess_input_function(X_train.copy())\n",
    "X_val_preprocessed = preprocess_input_function(X_val.copy())\n",
    "\n",
    "print(\"X_train.shape:\", X_train.shape)\n",
    "print(\"X_val.shape:\", X_val.shape)\n",
    "print(\"Number of training samples (m_train):\", m_train)\n",
    "print(\"Number of validation samples (m_val):\", m_val)"
   ]
  },
  {
   "cell_type": "markdown",
   "metadata": {},
   "source": [
    "### Fit linear model (Logistic Regression)"
   ]
  },
  {
   "cell_type": "markdown",
   "metadata": {},
   "source": [
    "#### Baseline - no preprocessing"
   ]
  },
  {
   "cell_type": "code",
   "execution_count": 6,
   "metadata": {
    "ExecuteTime": {
     "end_time": "2019-09-14T11:07:41.283297Z",
     "start_time": "2019-09-14T11:06:58.531507Z"
    }
   },
   "outputs": [
    {
     "name": "stderr",
     "output_type": "stream",
     "text": [
      "/Users/salomon/miniconda3/envs/setdetection/lib/python3.7/site-packages/sklearn/linear_model/logistic.py:947: ConvergenceWarning: lbfgs failed to converge. Increase the number of iterations.\n",
      "  \"of iterations.\", ConvergenceWarning)\n"
     ]
    }
   ],
   "source": [
    "# reshape to 2D\n",
    "X_train_2d = X_train.reshape(m_train, -1)\n",
    "X_val_2d = X_val.reshape(m_val, -1)\n",
    "\n",
    "# fit model\n",
    "clf = LogisticRegression(random_state=seed, solver='lbfgs', multi_class='multinomial').fit(X_train_2d, y_train)\n",
    "\n",
    "# save linear model\n",
    "linear_classifier_model_name = f\"clf-baseline-lr-{nr_images}.pkl\"\n",
    "with open(model_path / linear_classifier_model_name, 'wb') as handle:\n",
    "    pickle.dump(clf, handle)"
   ]
  },
  {
   "cell_type": "markdown",
   "metadata": {
    "ExecuteTime": {
     "end_time": "2019-09-10T05:31:00.187498Z",
     "start_time": "2019-09-10T05:30:57.462080Z"
    }
   },
   "source": [
    "#### Using DCNN features"
   ]
  },
  {
   "cell_type": "code",
   "execution_count": 7,
   "metadata": {
    "ExecuteTime": {
     "end_time": "2019-09-14T11:08:01.404307Z",
     "start_time": "2019-09-14T11:07:41.608103Z"
    }
   },
   "outputs": [],
   "source": [
    "# generate image embeddings\n",
    "X_train_embeddings = intermediate_model.predict(X_train_preprocessed)\n",
    "X_val_embeddings = intermediate_model.predict(X_val_preprocessed)\n",
    "\n",
    "# reshape embeddings to 2D\n",
    "X_train_embeddings_2d = X_train_embeddings.reshape(m_train, -1)\n",
    "X_val_embeddings_2d = X_val_embeddings.reshape(m_val, -1)"
   ]
  },
  {
   "cell_type": "code",
   "execution_count": 8,
   "metadata": {
    "ExecuteTime": {
     "end_time": "2019-09-14T11:08:41.181959Z",
     "start_time": "2019-09-14T11:08:11.597010Z"
    }
   },
   "outputs": [
    {
     "name": "stderr",
     "output_type": "stream",
     "text": [
      "/Users/salomon/miniconda3/envs/setdetection/lib/python3.7/site-packages/sklearn/linear_model/logistic.py:947: ConvergenceWarning: lbfgs failed to converge. Increase the number of iterations.\n",
      "  \"of iterations.\", ConvergenceWarning)\n"
     ]
    }
   ],
   "source": [
    "# fit model\n",
    "clf = LogisticRegression(random_state=seed, solver='lbfgs', multi_class='multinomial').fit(X_train_embeddings_2d, y_train)\n",
    "\n",
    "# save linear model\n",
    "linear_classifier_model_name = f\"clf-lr-{layer_name}_{nr_images}.pkl\"\n",
    "with open(model_path / linear_classifier_model_name, 'wb') as handle:\n",
    "    pickle.dump(clf, handle)"
   ]
  },
  {
   "cell_type": "markdown",
   "metadata": {
    "ExecuteTime": {
     "end_time": "2019-09-09T14:53:42.281265Z",
     "start_time": "2019-09-09T14:53:42.180431Z"
    }
   },
   "source": [
    "### Evaluate best model"
   ]
  },
  {
   "cell_type": "markdown",
   "metadata": {},
   "source": [
    "#### Load models"
   ]
  },
  {
   "cell_type": "code",
   "execution_count": null,
   "metadata": {
    "ExecuteTime": {
     "end_time": "2019-09-14T11:09:20.121582Z",
     "start_time": "2019-09-14T11:09:16.381164Z"
    }
   },
   "outputs": [],
   "source": [
    "# load intermediate DCNN (ResNet50), outputs at best performing layer (stage 3, blockd, first conv layer)\n",
    "dcnn_model_name = \"resnet50-res3d_branch2a.h5\"\n",
    "intermediate_model = load_model(\n",
    "    model_path / dcnn_model_name,\n",
    "    custom_objects=None, \n",
    "    compile=True\n",
    ")"
   ]
  },
  {
   "cell_type": "markdown",
   "metadata": {},
   "source": [
    "#### Results for 3240-image dataset"
   ]
  },
  {
   "cell_type": "code",
   "execution_count": 24,
   "metadata": {
    "ExecuteTime": {
     "end_time": "2019-09-14T11:15:01.706727Z",
     "start_time": "2019-09-14T11:14:59.803133Z"
    }
   },
   "outputs": [
    {
     "name": "stdout",
     "output_type": "stream",
     "text": [
      "Score for layer_name res3d_branch2a, train_score: 1.0000, val_score: 0.8272\n"
     ]
    },
    {
     "data": {
      "image/png": "[encoded data removed]",
      "text/plain": [
       "<Figure size 720x720 with 1 Axes>"
      ]
     },
     "metadata": {
      "needs_background": "light"
     },
     "output_type": "display_data"
    }
   ],
   "source": [
    "# load linear classifier\n",
    "nr_images = 3240 # val_score: 0.8272\n",
    "\n",
    "linear_classifier_model_name = f\"clf-lr-res3d_branch2a_{nr_images}.pkl\"\n",
    "with open(model_path / linear_classifier_model_name, 'rb') as handle:\n",
    "    best_model = pickle.load(handle)\n",
    "    \n",
    "# evaluate model\n",
    "train_score = best_model.score(X_train_embeddings_2d, y_train)\n",
    "val_score = best_model.score(X_val_embeddings_2d, y_val)\n",
    "print(f\"Score for layer_name {layer_name}, train_score: {train_score:.4f}, val_score: {val_score:.4f}\")\n",
    "\n",
    "# plot confusion matrix\n",
    "p_val = best_model.predict(X_val_embeddings_2d)\n",
    "cm = confusion_matrix(y_val, p_val)\n",
    "fig = plt.figure(figsize=(10, 10))\n",
    "plot_confusion_matrix(cm, np.arange(81))\n",
    "plt.savefig(output_path / f\"confusion_{linear_classifier_model_name}.png\")"
   ]
  },
  {
   "cell_type": "markdown",
   "metadata": {},
   "source": [
    "#### Results for 8100-image dataset"
   ]
  },
  {
   "cell_type": "code",
   "execution_count": 25,
   "metadata": {
    "ExecuteTime": {
     "end_time": "2019-09-14T11:15:11.723949Z",
     "start_time": "2019-09-14T11:15:09.728165Z"
    }
   },
   "outputs": [
    {
     "name": "stdout",
     "output_type": "stream",
     "text": [
      "Score for layer_name res3d_branch2a, train_score: 1.0000, val_score: 1.0000\n"
     ]
    },
    {
     "data": {
      "image/png": "[encoded data removed]",
      "text/plain": [
       "<Figure size 720x720 with 1 Axes>"
      ]
     },
     "metadata": {
      "needs_background": "light"
     },
     "output_type": "display_data"
    }
   ],
   "source": [
    "# load linear classifier\n",
    "nr_images = 8100 # val_score: 1.0\n",
    "\n",
    "linear_classifier_model_name = f\"clf-lr-res3d_branch2a_{nr_images}.pkl\"\n",
    "with open(model_path / linear_classifier_model_name, 'rb') as handle:\n",
    "    best_model = pickle.load(handle)\n",
    "    \n",
    "# evaluate model\n",
    "train_score = best_model.score(X_train_embeddings_2d, y_train)\n",
    "val_score = best_model.score(X_val_embeddings_2d, y_val)\n",
    "print(f\"Score for layer_name {layer_name}, train_score: {train_score:.4f}, val_score: {val_score:.4f}\")\n",
    "\n",
    "# plot confusion matrix\n",
    "p_val = best_model.predict(X_val_embeddings_2d)\n",
    "cm = confusion_matrix(y_val, p_val)\n",
    "fig = plt.figure(figsize=(10, 10))\n",
    "plot_confusion_matrix(cm, np.arange(81))\n",
    "plt.savefig(output_path / f\"confusion_{linear_classifier_model_name}.png\")"
   ]
  }
 ],
 "metadata": {
  "kernelspec": {
   "display_name": "setdetection",
   "language": "python",
   "name": "setdetection"
  },
  "language_info": {
   "codemirror_mode": {
    "name": "ipython",
    "version": 3
   },
   "file_extension": ".py",
   "mimetype": "text/x-python",
   "name": "python",
   "nbconvert_exporter": "python",
   "pygments_lexer": "ipython3",
   "version": "3.7.4"
  },
  "varInspector": {
   "cols": {
    "lenName": 16,
    "lenType": 16,
    "lenVar": 40
   },
   "kernels_config": {
    "python": {
     "delete_cmd_postfix": "",
     "delete_cmd_prefix": "del ",
     "library": "var_list.py",
     "varRefreshCmd": "print(var_dic_list())"
    },
    "r": {
     "delete_cmd_postfix": ") ",
     "delete_cmd_prefix": "rm(",
     "library": "var_list.r",
     "varRefreshCmd": "cat(var_dic_list()) "
    }
   },
   "types_to_exclude": [
    "module",
    "function",
    "builtin_function_or_method",
    "instance",
    "_Feature"
   ],
   "window_display": false
  }
 },
 "nbformat": 4,
 "nbformat_minor": 2
}
