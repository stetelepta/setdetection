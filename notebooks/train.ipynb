{
 "cells": [
  {
   "cell_type": "code",
   "execution_count": 68,
   "metadata": {
    "ExecuteTime": {
     "end_time": "2019-09-02T17:02:04.912210Z",
     "start_time": "2019-09-02T17:02:04.896770Z"
    }
   },
   "outputs": [],
   "source": [
    "### Imports\n",
    "import os\n",
    "import sys\n",
    "import numpy as np\n",
    "import pandas as pd\n",
    "import click\n",
    "import logging\n",
    "import pickle\n",
    "import cv2\n",
    "import resource\n",
    "import random\n",
    "from datetime import datetime\n",
    "from pathlib import Path\n",
    "from collections import defaultdict\n",
    "from sklearn.preprocessing import LabelEncoder\n",
    "from tensorflow.keras.preprocessing.image import ImageDataGenerator\n",
    "from tensorflow.keras.models import Model\n",
    "\n",
    "# import supported models\n",
    "from tensorflow.keras.applications import ResNet50, MobileNet, MobileNetV2\n",
    "\n",
    "# import preprocessing functions for the models\n",
    "from tensorflow.keras.applications.resnet50 import preprocess_input as preprocess_input_resnet50\n",
    "from tensorflow.keras.applications.mobilenet import preprocess_input as preprocess_input_mobile_net\n",
    "from tensorflow.keras.applications.mobilenet_v2 import preprocess_input as preprocess_input_mobile_net_v2\n",
    "\n",
    "from tensorflow.keras.metrics import categorical_accuracy\n",
    "from tensorflow.keras.optimizers import Adam\n",
    "from tensorflow.compat.v1 import set_random_seed\n",
    "from tensorflow.compat.v1.keras.models import save_model\n",
    "from sklearn.preprocessing import StandardScaler, MinMaxScaler\n",
    "from sklearn.linear_model import LogisticRegression"
   ]
  },
  {
   "cell_type": "code",
   "execution_count": 2,
   "metadata": {
    "ExecuteTime": {
     "end_time": "2019-09-02T15:49:04.250826Z",
     "start_time": "2019-09-02T15:49:04.053197Z"
    }
   },
   "outputs": [],
   "source": [
    "# get project path, and flag if script runs in a file\n",
    "project_path = Path(os.getcwd(), os.pardir)\n",
    "output_path = project_path / \"output\"\n",
    "results_csv_path = output_path / 'results.csv'\n",
    "\n",
    "# add project root to pythonpath\n",
    "sys.path.insert(0, str(project_path / \"src\"))\n",
    "\n",
    "# import custom packages\n",
    "from utils.identify import *    \n",
    "from utils.log import *\n",
    "from utils.click_utils import conditionally_decorate\n",
    "from set_cardgame.dataset import *\n",
    "\n",
    "# setup logging\n",
    "logger = setup_logger(level=logging.INFO, logfile=output_path / f\"log_.txt\")\n",
    "\n",
    "logger.info(\"======\")\n",
    "logger.info(f\"project_path: {project_path}\")\n",
    "logger.info(f\"output_path: {output_path}\")\n",
    "\n",
    "# make results repeatable\n",
    "seed = 42\n",
    "random.seed(seed)  # python built-in pseudo-random generator\n",
    "np.random.seed(seed)  # numpy pseudo-random generator\n",
    "set_random_seed(seed)  # tensorflow pseudo-random generator"
   ]
  },
  {
   "cell_type": "code",
   "execution_count": 3,
   "metadata": {
    "ExecuteTime": {
     "end_time": "2019-09-02T15:49:19.371715Z",
     "start_time": "2019-09-02T15:49:10.947830Z"
    }
   },
   "outputs": [
    {
     "name": "stderr",
     "output_type": "stream",
     "text": [
      "/Users/salomon/miniconda3/envs/setdetection/lib/python3.7/site-packages/keras_applications/resnet50.py:265: UserWarning: The output shape of `ResNet50(include_top=False)` has been changed since Keras 2.2.0.\n",
      "  warnings.warn('The output shape of `ResNet50(include_top=False)` '\n"
     ]
    }
   ],
   "source": [
    "# name of first layer that had 100% validation score  \n",
    "layer_name = \"res3d_branch2a\"\n",
    "\n",
    "# initialize intermediate model\n",
    "model_instance = ResNet50(include_top=False, weights='imagenet', pooling=None, input_shape=(96, 128, 3))\n",
    "preprocess_input_function = preprocess_input_resnet50\n",
    "\n",
    "# create new model and set outputs to the best desired layer  \n",
    "intermediate_model = Model(inputs=model_instance.input, outputs=model_instance.get_layer(layer_name).output)\n",
    "intermediate_model.compile(optimizer=Adam(), loss='categorical_crossentropy', metrics=[categorical_accuracy])"
   ]
  },
  {
   "cell_type": "code",
   "execution_count": 69,
   "metadata": {
    "ExecuteTime": {
     "end_time": "2019-09-02T17:03:28.896198Z",
     "start_time": "2019-09-02T17:03:24.371695Z"
    }
   },
   "outputs": [],
   "source": [
    "# save the intermediate model\n",
    "save_model(\n",
    "    intermediate_model,\n",
    "    output_path / f\"resnet_{layer_name}_intermediate_model.h5\",\n",
    "    overwrite=True,\n",
    "    include_optimizer=True,\n",
    "    save_format='h5'\n",
    ")"
   ]
  },
  {
   "cell_type": "code",
   "execution_count": 6,
   "metadata": {
    "ExecuteTime": {
     "end_time": "2019-09-02T15:54:48.193328Z",
     "start_time": "2019-09-02T15:50:25.057319Z"
    }
   },
   "outputs": [
    {
     "name": "stdout",
     "output_type": "stream",
     "text": [
      "Found 243 images belonging to 81 classes.\n",
      "Found 81 images belonging to 81 classes.\n",
      "X_train.shape: (8100, 96, 128, 3)\n",
      "X_val.shape: (81, 96, 128, 3)\n",
      "m_train: 8100\n",
      "m_val: 81\n"
     ]
    },
    {
     "name": "stderr",
     "output_type": "stream",
     "text": [
      "/Users/salomon/miniconda3/envs/setdetection/lib/python3.7/site-packages/sklearn/linear_model/logistic.py:947: ConvergenceWarning: lbfgs failed to converge. Increase the number of iterations.\n",
      "  \"of iterations.\", ConvergenceWarning)\n"
     ]
    }
   ],
   "source": [
    "nr_images = 8100\n",
    "\n",
    "# load training and validation data\n",
    "X_train, y_train, X_val, y_val = load_dataset(nr_images=nr_images, output_path=None)\n",
    "\n",
    "# apply preprocessing for the specified model\n",
    "X_train = preprocess_input_function(X_train)\n",
    "X_val = preprocess_input_function(X_val)\n",
    "\n",
    "# nr samples\n",
    "m_train = X_train.shape[0]\n",
    "m_val = X_val.shape[0]\n",
    "\n",
    "print(\"X_train.shape:\", X_train.shape)\n",
    "print(\"X_val.shape:\", X_val.shape)\n",
    "print(\"m_train:\", m_train)\n",
    "print(\"m_val:\", m_val)\n",
    "\n",
    "# generate image embeddings\n",
    "X_train_embeddings = intermediate_model.predict(X_train)\n",
    "X_val_embeddings = intermediate_model.predict(X_val)\n",
    "\n",
    "# reshape embeddings to 2D\n",
    "X_train_embeddings = X_train_embeddings.reshape(m_train, -1)\n",
    "X_val_embeddings = X_val_embeddings.reshape(m_val, -1)\n",
    "\n",
    "# fit model\n",
    "clf = LogisticRegression(random_state=seed, solver='lbfgs', multi_class='multinomial').fit(X_train_embeddings, y_train)\n",
    "\n",
    "train_score = clf.score(X_train_embeddings, y_train)\n",
    "val_score = clf.score(X_val_embeddings, y_val)\n",
    "logger.info(f\"score for layer_name {layer_name}, train_score: {train_score:.4f}, val_score: {val_score:.4f}\")"
   ]
  },
  {
   "cell_type": "code",
   "execution_count": 9,
   "metadata": {
    "ExecuteTime": {
     "end_time": "2019-09-02T15:56:21.803622Z",
     "start_time": "2019-09-02T15:56:21.744501Z"
    }
   },
   "outputs": [],
   "source": [
    "with open(output_path / f'clf_{layer_name}_{nr_images}.pkl', 'wb') as handle:\n",
    "    pickle.dump(clf, handle)"
   ]
  },
  {
   "cell_type": "markdown",
   "metadata": {
    "ExecuteTime": {
     "end_time": "2019-09-02T05:55:35.701986Z",
     "start_time": "2019-09-02T05:55:35.685867Z"
    }
   },
   "source": [
    "### load model"
   ]
  },
  {
   "cell_type": "code",
   "execution_count": 46,
   "metadata": {
    "ExecuteTime": {
     "end_time": "2019-09-02T16:10:06.733120Z",
     "start_time": "2019-09-02T16:10:06.705856Z"
    }
   },
   "outputs": [],
   "source": [
    "with open(output_path / f'clf_{layer_name}_{nr_images}.pkl', 'rb') as handle:\n",
    "    best_model = pickle.load(handle)"
   ]
  },
  {
   "cell_type": "code",
   "execution_count": null,
   "metadata": {
    "ExecuteTime": {
     "end_time": "2019-09-02T15:58:42.865456Z",
     "start_time": "2019-09-02T15:58:27.751835Z"
    }
   },
   "outputs": [],
   "source": [
    "# load training and validation data\n",
    "X_test, y_test, X_val, y_val = load_dataset(nr_images=810, output_path=None)\n",
    "m_test = X_test.shape[0]\n",
    "\n",
    "# preprocessing\n",
    "X_test = preprocess_input_function(X_test)\n",
    "\n",
    "# generate image embeddings\n",
    "X_test_embeddings = intermediate_model.predict(X_test).reshape(m_test, -1)"
   ]
  },
  {
   "cell_type": "code",
   "execution_count": 47,
   "metadata": {
    "ExecuteTime": {
     "end_time": "2019-09-02T16:10:19.349710Z",
     "start_time": "2019-09-02T16:10:19.166819Z"
    }
   },
   "outputs": [
    {
     "name": "stdout",
     "output_type": "stream",
     "text": [
      "test_score:1.0\n"
     ]
    }
   ],
   "source": [
    "test_score = best_model.score(X_test_embeddings, y_test)\n",
    "print(f\"test_score:{test_score}\")"
   ]
  },
  {
   "cell_type": "code",
   "execution_count": 63,
   "metadata": {
    "ExecuteTime": {
     "end_time": "2019-09-02T16:13:08.147530Z",
     "start_time": "2019-09-02T16:13:08.088122Z"
    }
   },
   "outputs": [],
   "source": [
    "test_image_orig = cv2.imread(str(project_path / \"test_images\" / \"test1.png\"))\n",
    "test_image = np.expand_dims(test_image_orig, 0)\n",
    "test_image = preprocess_input_function(test_image)\n",
    "test_image = intermediate_model.predict(test_image).reshape(1, -1)\n",
    "predicted_card_id = int(best_model.predict(test_image)[0])\n",
    "df_meta, _ = load_metadata()\n",
    "title = \" \".join(list(df_meta[df_meta.card_id == predicted_card_id][['color', 'shape', 'fill', 'number']].drop_duplicates().values[0]))"
   ]
  },
  {
   "cell_type": "code",
   "execution_count": 66,
   "metadata": {
    "ExecuteTime": {
     "end_time": "2019-09-02T16:13:19.368769Z",
     "start_time": "2019-09-02T16:13:19.233754Z"
    }
   },
   "outputs": [
    {
     "data": {
      "image/png": "[encoded data removed]",
      "text/plain": [
       "<Figure size 432x288 with 1 Axes>"
      ]
     },
     "metadata": {
      "needs_background": "light"
     },
     "output_type": "display_data"
    }
   ],
   "source": [
    "plt.imshow(test_image_orig)\n",
    "plt.title(title)\n",
    "plt.show()"
   ]
  },
  {
   "cell_type": "code",
   "execution_count": null,
   "metadata": {},
   "outputs": [],
   "source": []
  }
 ],
 "metadata": {
  "kernelspec": {
   "display_name": "setdetection",
   "language": "python",
   "name": "setdetection"
  },
  "language_info": {
   "codemirror_mode": {
    "name": "ipython",
    "version": 3
   },
   "file_extension": ".py",
   "mimetype": "text/x-python",
   "name": "python",
   "nbconvert_exporter": "python",
   "pygments_lexer": "ipython3",
   "version": "3.7.4"
  },
  "varInspector": {
   "cols": {
    "lenName": 16,
    "lenType": 16,
    "lenVar": 40
   },
   "kernels_config": {
    "python": {
     "delete_cmd_postfix": "",
     "delete_cmd_prefix": "del ",
     "library": "var_list.py",
     "varRefreshCmd": "print(var_dic_list())"
    },
    "r": {
     "delete_cmd_postfix": ") ",
     "delete_cmd_prefix": "rm(",
     "library": "var_list.r",
     "varRefreshCmd": "cat(var_dic_list()) "
    }
   },
   "types_to_exclude": [
    "module",
    "function",
    "builtin_function_or_method",
    "instance",
    "_Feature"
   ],
   "window_display": false
  }
 },
 "nbformat": 4,
 "nbformat_minor": 2
}
